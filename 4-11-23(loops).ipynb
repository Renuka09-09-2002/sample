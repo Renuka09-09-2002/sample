{
 "cells": [
  {
   "cell_type": "markdown",
   "id": "3fdea7c9",
   "metadata": {},
   "source": [
    "FOR LOOP"
   ]
  },
  {
   "cell_type": "raw",
   "id": "b174bcc1",
   "metadata": {},
   "source": [
    "-you will be in the loop\n",
    "-when you will enter into the loop\n",
    "-how much time u will stay in the loop\n",
    "-how u will be come out of the loop"
   ]
  },
  {
   "cell_type": "code",
   "execution_count": null,
   "id": "78b91c7a",
   "metadata": {},
   "outputs": [],
   "source": [
    "-initialization\n",
    "-incrementing/decrementing\n",
    "-condition to stop the loop\n"
   ]
  },
  {
   "cell_type": "code",
   "execution_count": null,
   "id": "aa530890",
   "metadata": {},
   "outputs": [],
   "source": [
    "#print 1st 10 numbers\n",
    "#0,1\n",
    "#initialpoint:0\n",
    "#increment\n",
    "#cond=10   ---->to stop"
   ]
  },
  {
   "cell_type": "code",
   "execution_count": null,
   "id": "e0c9593a",
   "metadata": {},
   "outputs": [],
   "source": [
    "PATTERN -1\n",
    "SYN:for i in range(stop_value):\n",
    "-in the bracket if we have only single value that is consider as stop value\n",
    "-default starts value is 0\n",
    "-python index starts with 0\n",
    "-if  direction sign is notmentioned:increment(+) sign\n",
    "-if direction is + side,then the last value end=stop-1"
   ]
  },
  {
   "cell_type": "code",
   "execution_count": 1,
   "id": "1de5eed8",
   "metadata": {},
   "outputs": [
    {
     "name": "stdout",
     "output_type": "stream",
     "text": [
      "0\n",
      "1\n",
      "2\n",
      "3\n",
      "4\n",
      "5\n",
      "6\n",
      "7\n",
      "8\n",
      "9\n"
     ]
    }
   ],
   "source": [
    "for i in range(10):\n",
    "    print(i)\n",
    "#start=0\n",
    "#direc=+\n",
    "#end=stop-1=0-9\n",
    "    "
   ]
  },
  {
   "cell_type": "code",
   "execution_count": 2,
   "id": "35c1e8d0",
   "metadata": {},
   "outputs": [
    {
     "name": "stdout",
     "output_type": "stream",
     "text": [
      "0\n",
      "1\n",
      "2\n",
      "3\n",
      "4\n",
      "5\n",
      "6\n",
      "7\n",
      "8\n",
      "9\n",
      "10\n",
      "11\n",
      "12\n",
      "13\n",
      "14\n",
      "15\n",
      "16\n",
      "17\n",
      "18\n",
      "19\n"
     ]
    }
   ],
   "source": [
    "for i in range(20):\n",
    "    print(i)                 #generalization:print(i),i may be anything"
   ]
  },
  {
   "cell_type": "code",
   "execution_count": 7,
   "id": "829f29e5",
   "metadata": {},
   "outputs": [
    {
     "name": "stdout",
     "output_type": "stream",
     "text": [
      "0\n",
      "1\n",
      "2\n"
     ]
    }
   ],
   "source": [
    "print(0)\n",
    "print(1)\n",
    "print(2)"
   ]
  },
  {
   "cell_type": "code",
   "execution_count": 5,
   "id": "097401e0",
   "metadata": {},
   "outputs": [
    {
     "name": "stdout",
     "output_type": "stream",
     "text": [
      "0 1 2\n"
     ]
    }
   ],
   "source": [
    "#for horizontal\n",
    "print(0,end=\" \")\n",
    "print(1,end=\" \")\n",
    "print(2)\n",
    " \n"
   ]
  },
  {
   "cell_type": "code",
   "execution_count": 6,
   "id": "2ecb0cf7",
   "metadata": {},
   "outputs": [
    {
     "name": "stdout",
     "output_type": "stream",
     "text": [
      "0 1 2 3 4 5 6 7 8 9 "
     ]
    }
   ],
   "source": [
    "for i in range(10):\n",
    "    print(i,end=\" \")"
   ]
  },
  {
   "cell_type": "code",
   "execution_count": null,
   "id": "79b77cdd",
   "metadata": {},
   "outputs": [],
   "source": [
    "PATTERN-2\n",
    "for i range(start,stop)"
   ]
  },
  {
   "cell_type": "code",
   "execution_count": 8,
   "id": "ed5fe3a3",
   "metadata": {},
   "outputs": [
    {
     "name": "stdout",
     "output_type": "stream",
     "text": [
      "0\n",
      "1\n",
      "2\n",
      "3\n",
      "4\n"
     ]
    }
   ],
   "source": [
    "for i in range(0,5):\n",
    "    print(i)\n"
   ]
  },
  {
   "cell_type": "code",
   "execution_count": 9,
   "id": "6944c793",
   "metadata": {},
   "outputs": [
    {
     "name": "stdout",
     "output_type": "stream",
     "text": [
      "0 1 2 3 4 "
     ]
    }
   ],
   "source": [
    "for i in range(0,5):\n",
    "    print(i,end=\" \")"
   ]
  },
  {
   "cell_type": "code",
   "execution_count": null,
   "id": "fe27acf6",
   "metadata": {},
   "outputs": [],
   "source": []
  },
  {
   "cell_type": "code",
   "execution_count": 11,
   "id": "6889cef9",
   "metadata": {},
   "outputs": [
    {
     "name": "stdout",
     "output_type": "stream",
     "text": [
      "-5 -4 -3 -2 -1 "
     ]
    }
   ],
   "source": [
    "for i in range(-5,0):\n",
    "    print(i,end=\" \")"
   ]
  },
  {
   "cell_type": "code",
   "execution_count": null,
   "id": "060530ae",
   "metadata": {},
   "outputs": [],
   "source": [
    "PATTERN-3\n",
    "for i in range (start,stop,step)\n",
    "start:start of the loop,inital point\n",
    "direction:what is sign of step value,that is the direction\n",
    "            -direction will not decided by start and stop value\n",
    "*if step size is positive direction\n",
    "end=stop-1\n",
    "*if step is negative direction\n",
    "end=stop+1"
   ]
  },
  {
   "cell_type": "code",
   "execution_count": 12,
   "id": "2ecfb73d",
   "metadata": {},
   "outputs": [
    {
     "name": "stdout",
     "output_type": "stream",
     "text": [
      "2 4 6 8 10 12 14 16 18 "
     ]
    }
   ],
   "source": [
    "for i in range(2,20,2):\n",
    "    print(i,end=\" \")\n",
    "    \n",
    "#start=2\n",
    "#direction:step size=2\n",
    "#stop:step-1--->20-1=19\n"
   ]
  },
  {
   "cell_type": "code",
   "execution_count": 14,
   "id": "b7d9446f",
   "metadata": {},
   "outputs": [
    {
     "name": "stdout",
     "output_type": "stream",
     "text": [
      "-1 -2 -3 -4 -5 -6 -7 -8 -9 "
     ]
    }
   ],
   "source": [
    "for i in range(-1,-10,-1):\n",
    "    print(i,end=\" \")\n",
    "\n",
    "#start=-1\n",
    "#direction=step=-1\n",
    "#end=stop+1--->-10+1=-9\n",
    "#is this possible or not"
   ]
  },
  {
   "cell_type": "code",
   "execution_count": 15,
   "id": "ad95d804",
   "metadata": {},
   "outputs": [],
   "source": [
    "for i in range(-1,-10,1):\n",
    "    print(i,end=\" \")\n",
    "\n",
    "#start=-1\n",
    "#direction=step=+1\n",
    "#end=stop+1--->-10-1=-11              #DIRECTION NOT BE POSSIBLE\n",
    "                                       #SO IT WILL NOT GIVE ANY ANS\n",
    "#is this possible or not"
   ]
  },
  {
   "cell_type": "code",
   "execution_count": 16,
   "id": "76e48e23",
   "metadata": {},
   "outputs": [],
   "source": [
    "for i in range(8,20,-2):\n",
    "    print(i,end=\" \")"
   ]
  },
  {
   "cell_type": "code",
   "execution_count": null,
   "id": "25150bec",
   "metadata": {},
   "outputs": [],
   "source": [
    "range(3,25,3)  #poss\n",
    "range(3,25,-3)#np\n",
    "range(3,-25,3)#np\n",
    "range(3,-25,-3)#p\n",
    "range(-3,25,3)#p\n",
    "range(-3,-25,3)#np\n",
    "range(-3,25,-3)#np\n",
    "range(-3,-25,-3)#p"
   ]
  },
  {
   "cell_type": "code",
   "execution_count": null,
   "id": "6ca0c238",
   "metadata": {},
   "outputs": [],
   "source": []
  }
 ],
 "metadata": {
  "kernelspec": {
   "display_name": "Python 3 (ipykernel)",
   "language": "python",
   "name": "python3"
  },
  "language_info": {
   "codemirror_mode": {
    "name": "ipython",
    "version": 3
   },
   "file_extension": ".py",
   "mimetype": "text/x-python",
   "name": "python",
   "nbconvert_exporter": "python",
   "pygments_lexer": "ipython3",
   "version": "3.11.5"
  }
 },
 "nbformat": 4,
 "nbformat_minor": 5
}
