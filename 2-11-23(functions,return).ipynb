{
 "cells": [
  {
   "cell_type": "code",
   "execution_count": 7,
   "id": "47748d80",
   "metadata": {},
   "outputs": [
    {
     "name": "stdout",
     "output_type": "stream",
     "text": [
      "radius of circle12\n",
      "the area of the circle : 452.39\n"
     ]
    }
   ],
   "source": [
    "#ask the user to find area of circle\n",
    "#formula:pi*r*r\n",
    "#basic method\n",
    "#WITHOUT ARGUMENTS\n",
    "#with argumnets\n",
    "#default parameter\n",
    "import math     #without arguments          ------>step-1             \n",
    "def area_of_circle():                      ------>step-2\n",
    "    pii=math.pi                                                   ---->step-5\n",
    "    radii=eval(input(\"radius of circle\"))   ------>step-3\n",
    "    area=round(pii*radii*radii,2)                                ------>step-6\n",
    "    print(\"the area of the circle :\",area)                        ------>step-7\n",
    "area_of_circle()                            ------>step-4                     "
   ]
  },
  {
   "cell_type": "code",
   "execution_count": 1,
   "id": "e11f22bc",
   "metadata": {},
   "outputs": [
    {
     "name": "stdout",
     "output_type": "stream",
     "text": [
      "the area of the circle : 452.39\n"
     ]
    }
   ],
   "source": [
    "import math                         #method2----->with arguments\n",
    "def area_of_circle(radii):\n",
    "    pii=math.pi\n",
    "    \n",
    "    area=round(pii*radii*radii,2)\n",
    "    print(\"the area of the circle :\",area)\n",
    "area_of_circle(12)"
   ]
  },
  {
   "cell_type": "code",
   "execution_count": 9,
   "id": "5248075a",
   "metadata": {},
   "outputs": [
    {
     "name": "stdout",
     "output_type": "stream",
     "text": [
      "radius of circle12\n",
      "radius of circle12\n",
      "the area of the circle : 452.39\n"
     ]
    }
   ],
   "source": [
    "import math                         #method2----->with arguments direct keyword passing\n",
    "def area_of_circle(radii):\n",
    "    pii=math.pi\n",
    "    radii=eval(input(\"radius of circle\"))\n",
    "    area=round(pii*radii*radii,2)\n",
    "    print(\"the area of the circle :\",area)\n",
    "radii=eval(input(\"radius of circle\"))\n",
    "area_of_circle(radii)"
   ]
  },
  {
   "cell_type": "code",
   "execution_count": 14,
   "id": "d0671b05",
   "metadata": {},
   "outputs": [
    {
     "name": "stdout",
     "output_type": "stream",
     "text": [
      "the area of the circle : 452.39\n"
     ]
    }
   ],
   "source": [
    "import math                         #method2----->default arguments\n",
    "def area_of_circle(pii,radii=12):\n",
    "    pii=math.pi\n",
    "   \n",
    "    area1=round(pii*radii*radii,2)\n",
    "    print(\"the area of the circle :\",area1)\n",
    "area_of_circle(pii)"
   ]
  },
  {
   "cell_type": "code",
   "execution_count": 16,
   "id": "dc8a0130",
   "metadata": {},
   "outputs": [
    {
     "data": {
      "text/plain": [
       "452.3893421169302"
      ]
     },
     "execution_count": 16,
     "metadata": {},
     "output_type": "execute_result"
    }
   ],
   "source": [
    "area"
   ]
  },
  {
   "cell_type": "code",
   "execution_count": 17,
   "id": "3e3e7ee2",
   "metadata": {},
   "outputs": [
    {
     "ename": "NameError",
     "evalue": "name 'area1' is not defined",
     "output_type": "error",
     "traceback": [
      "\u001b[1;31m---------------------------------------------------------------------------\u001b[0m",
      "\u001b[1;31mNameError\u001b[0m                                 Traceback (most recent call last)",
      "Cell \u001b[1;32mIn[17], line 1\u001b[0m\n\u001b[1;32m----> 1\u001b[0m area1\n",
      "\u001b[1;31mNameError\u001b[0m: name 'area1' is not defined"
     ]
    }
   ],
   "source": [
    "area1\n",
    "\n",
    "#function is calculating area value\n",
    "#but not providing (return) that value to you "
   ]
  },
  {
   "cell_type": "markdown",
   "id": "18acb853",
   "metadata": {},
   "source": [
    "Return\n"
   ]
  },
  {
   "cell_type": "code",
   "execution_count": 30,
   "id": "1657d87a",
   "metadata": {},
   "outputs": [],
   "source": [
    "import math                         \n",
    "def area_of_circle(radii):\n",
    "    pii=math.pi\n",
    "    radii=eval(input(\"radius of circle\"))\n",
    "    area=round(pii*radii*radii,2)\n",
    "    print(\"the area of the circle :\",area)\n",
    "radii=eval(input(\"radius of circle\"))\n",
    "area_of_circle(radii)"
   ]
  },
  {
   "cell_type": "code",
   "execution_count": 34,
   "id": "6b3720c5",
   "metadata": {},
   "outputs": [
    {
     "name": "stdout",
     "output_type": "stream",
     "text": [
      "radius of circle12\n",
      "the area of the circle : 452.39\n"
     ]
    }
   ],
   "source": [
    "Aera=area_of_circle()\n",
    "\n",
    "\n"
   ]
  },
  {
   "cell_type": "code",
   "execution_count": 3,
   "id": "9824fb5b",
   "metadata": {},
   "outputs": [
    {
     "name": "stdout",
     "output_type": "stream",
     "text": [
      "the sum of numbers 90\n",
      "avg of numbers 30.0\n"
     ]
    }
   ],
   "source": [
    "#user enter the 3 numbers\n",
    "#find the sum and average\n",
    "#return the avg and sum\n",
    "def sum_and_avg(num1,num2,num3):\n",
    "    \n",
    "    #number1=eval(input(\"enter the  number_1\"))\n",
    "    #number2=eval(input(\"enter the  number_2\"))\n",
    "    #number3=eval(input(\"enter the  number_3\"))\n",
    "    summ=num1+num2+num3\n",
    "    avg=summ/3\n",
    "    print(\"the sum of numbers\",summ)\n",
    "    print(\"avg of numbers\",avg)\n",
    "    return(summ,avg)\n",
    "ADD,AVG=sum_and_avg(20,30,40)\n"
   ]
  },
  {
   "cell_type": "code",
   "execution_count": 13,
   "id": "62e34004",
   "metadata": {},
   "outputs": [
    {
     "name": "stdout",
     "output_type": "stream",
     "text": [
      "30 is greater\n"
     ]
    }
   ],
   "source": [
    "#Question copy cheyyy\n",
    "def greater(n1,n2,n3):\n",
    "    if n1>n2 and n1>n3:\n",
    "        print('{} is greater'.format(n1))\n",
    "        return(n1)\n",
    "    elif n2>n3:\n",
    "        print(\"{}is greater\".format(n2))\n",
    "        return(n2)\n",
    "    else:\n",
    "        print(\"{} is greater\".format(n3))\n",
    "        return(n3)\n",
    "Greater=greater(10,20,30)\n",
    "    \n",
    "        "
   ]
  },
  {
   "cell_type": "code",
   "execution_count": 14,
   "id": "008a8432",
   "metadata": {},
   "outputs": [
    {
     "name": "stdout",
     "output_type": "stream",
     "text": [
      "30\n"
     ]
    }
   ],
   "source": [
    "print(Greater)"
   ]
  },
  {
   "cell_type": "code",
   "execution_count": 25,
   "id": "dcacda85",
   "metadata": {},
   "outputs": [
    {
     "name": "stdout",
     "output_type": "stream",
     "text": [
      "50 -10 600 0.6666666666666666 0.67\n"
     ]
    }
   ],
   "source": [
    "def add(a,b):\n",
    "    return(a+b)\n",
    "def sub(a,b):\n",
    "    return(a-b)\n",
    "def mul(a,b):\n",
    "    return(a*b)\n",
    "def div(a,b):\n",
    "    return(a/b)\n",
    "val_add=add(20,30)\n",
    "val_sub=sub(20,30)\n",
    "val_mul=mul(20,30)\n",
    "val_div=div(20,30)\n",
    "print(val_add,val_sub,val_mul,val_div,round(val_div,2))"
   ]
  },
  {
   "cell_type": "code",
   "execution_count": 26,
   "id": "e5d953c8",
   "metadata": {},
   "outputs": [
    {
     "name": "stdout",
     "output_type": "stream",
     "text": [
      "50 -10 600 0.67\n"
     ]
    }
   ],
   "source": [
    "def aggregation(a,b):               ----->method-1\n",
    "    return(a+b,a-b,a*b,a/b)\n",
    "add,sub,mul,div=aggregation(20,30)\n",
    "print(add,sub,mul,round(div,2))"
   ]
  },
  {
   "cell_type": "code",
   "execution_count": 27,
   "id": "d2d10812",
   "metadata": {},
   "outputs": [
    {
     "name": "stdout",
     "output_type": "stream",
     "text": [
      "(50, -10, 600, 0.6666666666666666)\n"
     ]
    }
   ],
   "source": [
    "def aggregation(a,b):\n",
    "    return(a+b,a-b,a*b,a/b)   ------>method-2\n",
    "value=aggregation(20,30)\n",
    "print(value)"
   ]
  },
  {
   "cell_type": "code",
   "execution_count": null,
   "id": "234f59e4",
   "metadata": {},
   "outputs": [],
   "source": []
  }
 ],
 "metadata": {
  "kernelspec": {
   "display_name": "Python 3 (ipykernel)",
   "language": "python",
   "name": "python3"
  },
  "language_info": {
   "codemirror_mode": {
    "name": "ipython",
    "version": 3
   },
   "file_extension": ".py",
   "mimetype": "text/x-python",
   "name": "python",
   "nbconvert_exporter": "python",
   "pygments_lexer": "ipython3",
   "version": "3.11.5"
  }
 },
 "nbformat": 4,
 "nbformat_minor": 5
}
