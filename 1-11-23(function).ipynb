{
 "cells": [
  {
   "cell_type": "code",
   "execution_count": 6,
   "id": "984db870",
   "metadata": {},
   "outputs": [
    {
     "name": "stdout",
     "output_type": "stream",
     "text": [
      "enter u r number5\n",
      "the square of 5 is 25\n"
     ]
    }
   ],
   "source": [
    "import math\n",
    "user=eval(input(\"enter u r number\"))\n",
    "#number=user*user\n",
    "print(\"the square of {} is {}\".format (user,user*user))"
   ]
  },
  {
   "cell_type": "markdown",
   "id": "7b379456",
   "metadata": {},
   "source": [
    "without argumnets"
   ]
  },
  {
   "cell_type": "code",
   "execution_count": 1,
   "id": "83d03af9",
   "metadata": {},
   "outputs": [
    {
     "name": "stdout",
     "output_type": "stream",
     "text": [
      "enter u r number10\n",
      "the square of 10 is100\n"
     ]
    }
   ],
   "source": [
    "def square():\n",
    "    user=eval(input(\"enter u r number\"))\n",
    "#number=user*user\n",
    "    print(\"the square of {} is{}\".format (user,user*user))\n",
    "square()"
   ]
  },
  {
   "cell_type": "markdown",
   "id": "d350d5d4",
   "metadata": {},
   "source": [
    "with arguments"
   ]
  },
  {
   "cell_type": "code",
   "execution_count": 3,
   "id": "3b89edd7",
   "metadata": {},
   "outputs": [
    {
     "name": "stdout",
     "output_type": "stream",
     "text": [
      "the square of 10 is100\n"
     ]
    }
   ],
   "source": [
    "def square(number):\n",
    "    \n",
    "#number=user*user\n",
    "    print(\"the square of {} is{}\".format (user,user*user))\n",
    "square(7)"
   ]
  },
  {
   "cell_type": "markdown",
   "id": "5a0c5511",
   "metadata": {},
   "source": [
    "without argumnets"
   ]
  },
  {
   "cell_type": "code",
   "execution_count": 4,
   "id": "90e534aa",
   "metadata": {},
   "outputs": [
    {
     "name": "stdout",
     "output_type": "stream",
     "text": [
      "ask the user get the random number6\n",
      "u lose\n"
     ]
    }
   ],
   "source": [
    "import random                    #method-1\n",
    "random_number=random.randint(1,20)\n",
    "\n",
    "user=eval(input(\"ask the user get the random number\"))\n",
    "\n",
    "if random_number==user:\n",
    "    print(\"you won\")\n",
    "else:\n",
    "        print(\"u lose\")\n",
    "\n",
    "\n"
   ]
  },
  {
   "cell_type": "code",
   "execution_count": 11,
   "id": "917d447b",
   "metadata": {},
   "outputs": [
    {
     "name": "stdout",
     "output_type": "stream",
     "text": [
      "ask the user get the random number3\n",
      "u lose\n"
     ]
    }
   ],
   "source": [
    "import random                    #method-2\n",
    "def compare():\n",
    "\n",
    "    random_number=random.randint(1,20)\n",
    "    user=eval(input(\"ask the user get the random number\"))\n",
    "    if random_number==user:\n",
    "        print(\"you won\")\n",
    "    else:\n",
    "        print(\"u lose\")\n",
    "compare()"
   ]
  },
  {
   "cell_type": "markdown",
   "id": "2103150b",
   "metadata": {},
   "source": [
    "with arguments"
   ]
  },
  {
   "cell_type": "code",
   "execution_count": 12,
   "id": "c7dfdf97",
   "metadata": {},
   "outputs": [
    {
     "name": "stdout",
     "output_type": "stream",
     "text": [
      "u lose\n"
     ]
    }
   ],
   "source": [
    "import random                   \n",
    "def compare(user):\n",
    "\n",
    "    random_number=random.randint(1,20)\n",
    "   \n",
    "    if random_number==user:\n",
    "        print(\"you won\")\n",
    "    else:\n",
    "        print(\"u lose\")\n",
    "compare(10)               "
   ]
  },
  {
   "cell_type": "markdown",
   "id": "216aaebb",
   "metadata": {},
   "source": [
    "method-2"
   ]
  },
  {
   "cell_type": "code",
   "execution_count": 14,
   "id": "ee8b32a5",
   "metadata": {},
   "outputs": [
    {
     "name": "stdout",
     "output_type": "stream",
     "text": [
      "enter a number10\n",
      "u lose\n"
     ]
    }
   ],
   "source": [
    "import random                      #step-1  \n",
    "def compare(random_num,num):        #step-2\n",
    "    if random_num==num:\n",
    "        print(\"you won\")\n",
    "    else:\n",
    "        print(\"u lose\")\n",
    "value_random=random.randint(1,20)       #step-3\n",
    "value=eval(input(\"enter a number\"))     #step-4\n",
    "compare(value_random,value)             #step-5\n"
   ]
  },
  {
   "cell_type": "code",
   "execution_count": 15,
   "id": "9ca04929",
   "metadata": {},
   "outputs": [
    {
     "name": "stdout",
     "output_type": "stream",
     "text": [
      "enter a number23\n",
      "u lose\n"
     ]
    }
   ],
   "source": [
    "import random                         #step-1\n",
    "def compare(random_num,num):             #function defination------->step-2\n",
    "    if random_num==num:\n",
    "        print(\"you won\")\n",
    "    else:\n",
    "        print(\"u lose\")\n",
    "\n",
    "compare(random.randint(1,20),eval(input(\"enter a number\")))    #calling the function ------->step-3\n"
   ]
  },
  {
   "cell_type": "code",
   "execution_count": 16,
   "id": "3558b320",
   "metadata": {},
   "outputs": [
    {
     "data": {
      "text/plain": [
       "16"
      ]
     },
     "execution_count": 16,
     "metadata": {},
     "output_type": "execute_result"
    }
   ],
   "source": [
    "import random\n",
    "random.randint(1,20)"
   ]
  },
  {
   "cell_type": "code",
   "execution_count": 17,
   "id": "e3631ff0",
   "metadata": {},
   "outputs": [
    {
     "data": {
      "text/plain": [
       "3"
      ]
     },
     "execution_count": 17,
     "metadata": {},
     "output_type": "execute_result"
    }
   ],
   "source": [
    "from random import randint\n",
    "randint(1,20)"
   ]
  },
  {
   "cell_type": "code",
   "execution_count": 18,
   "id": "2c0092de",
   "metadata": {},
   "outputs": [
    {
     "name": "stdout",
     "output_type": "stream",
     "text": [
      "enter u r salary 100\n",
      "enter u r tax_percentage20\n",
      "120\n"
     ]
    }
   ],
   "source": [
    "salary=eval(input(\"enter u r salary \"))\n",
    "tax=eval(input(\"enter u r tax_percentage\"))\n",
    "total_tax=salary+tax\n",
    "print(total_tax)"
   ]
  },
  {
   "cell_type": "code",
   "execution_count": 1,
   "id": "9ea526af",
   "metadata": {},
   "outputs": [
    {
     "ename": "SyntaxError",
     "evalue": "invalid syntax (1971081374.py, line 1)",
     "output_type": "error",
     "traceback": [
      "\u001b[1;36m  Cell \u001b[1;32mIn[1], line 1\u001b[1;36m\u001b[0m\n\u001b[1;33m    def user(10000):\u001b[0m\n\u001b[1;37m             ^\u001b[0m\n\u001b[1;31mSyntaxError\u001b[0m\u001b[1;31m:\u001b[0m invalid syntax\n"
     ]
    }
   ],
   "source": [
    "def user(10000):\n",
    "    salary=eval(input(\"enter u r salary \"))\n",
    "    tax=eval(input(\"enter u r tax_percentage \"))\n",
    "    total_tax=salary+tax\n",
    "print(\"the total is {} and{}\".format(salary,tax,total_tax))\n",
    "user()"
   ]
  },
  {
   "cell_type": "code",
   "execution_count": 2,
   "id": "e183c648",
   "metadata": {},
   "outputs": [
    {
     "data": {
      "text/plain": [
       "'C:\\\\Users\\\\parir\\\\datascience'"
      ]
     },
     "execution_count": 2,
     "metadata": {},
     "output_type": "execute_result"
    }
   ],
   "source": [
    "import os\n",
    "os.getcwd()"
   ]
  },
  {
   "cell_type": "code",
   "execution_count": null,
   "id": "e7327ee1",
   "metadata": {},
   "outputs": [],
   "source": []
  }
 ],
 "metadata": {
  "kernelspec": {
   "display_name": "Python 3 (ipykernel)",
   "language": "python",
   "name": "python3"
  },
  "language_info": {
   "codemirror_mode": {
    "name": "ipython",
    "version": 3
   },
   "file_extension": ".py",
   "mimetype": "text/x-python",
   "name": "python",
   "nbconvert_exporter": "python",
   "pygments_lexer": "ipython3",
   "version": "3.11.5"
  }
 },
 "nbformat": 4,
 "nbformat_minor": 5
}
