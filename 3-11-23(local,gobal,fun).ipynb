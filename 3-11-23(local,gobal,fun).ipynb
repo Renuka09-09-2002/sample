{
 "cells": [
  {
   "cell_type": "markdown",
   "id": "80065b1e",
   "metadata": {},
   "source": [
    "local variable"
   ]
  },
  {
   "cell_type": "code",
   "execution_count": 6,
   "id": "07a50e99",
   "metadata": {},
   "outputs": [
    {
     "name": "stdout",
     "output_type": "stream",
     "text": [
      "the additon of 10 and 12 is 22\n"
     ]
    }
   ],
   "source": [
    "def addition():\n",
    "    n1=10\n",
    "    n2=12\n",
    "    add=n1+n2\n",
    "    print(\"the additon of {} and {} is {}\".format(n1,n2,add))\n",
    "addition()"
   ]
  },
  {
   "cell_type": "markdown",
   "id": "e6f6ec60",
   "metadata": {},
   "source": [
    "global variables"
   ]
  },
  {
   "cell_type": "code",
   "execution_count": 4,
   "id": "51d49b61",
   "metadata": {},
   "outputs": [
    {
     "name": "stdout",
     "output_type": "stream",
     "text": [
      "the additon of 10 and 12 is 22\n"
     ]
    }
   ],
   "source": [
    "n1=10\n",
    "n2=12\n",
    "def addition():\n",
    "    \n",
    "    add=n1+n2\n",
    "    print(\"the additon of {} and {} is {}\".format(n1,n2,add))\n",
    "addition()"
   ]
  },
  {
   "cell_type": "code",
   "execution_count": 7,
   "id": "801132e9",
   "metadata": {},
   "outputs": [
    {
     "name": "stdout",
     "output_type": "stream",
     "text": [
      "the avg of 20,12 and33 is 21.666666666666668\n"
     ]
    }
   ],
   "source": [
    "def avg():                                 #local variables\n",
    "    num1=20\n",
    "    num2=12\n",
    "    num3=33\n",
    "    avg=(num1+num2+num3)/3\n",
    "    print(\"the avg of {},{} and{} is {}\".format(num1,num2,num3,avg))\n",
    "avg()\n",
    "    "
   ]
  },
  {
   "cell_type": "code",
   "execution_count": 8,
   "id": "215199d8",
   "metadata": {},
   "outputs": [
    {
     "name": "stdout",
     "output_type": "stream",
     "text": [
      "the avg of 20,12 and33 is 21.666666666666668\n"
     ]
    }
   ],
   "source": [
    "num1=20\n",
    "num2=12                         #global variables\n",
    "num3=33\n",
    "def avg():\n",
    "    \n",
    "    avg=(num1+num2+num3)/3\n",
    "    print(\"the avg of {},{} and{} is {}\".format(num1,num2,num3,avg))\n",
    "avg()"
   ]
  },
  {
   "cell_type": "code",
   "execution_count": 14,
   "id": "8514ef01",
   "metadata": {},
   "outputs": [
    {
     "name": "stdout",
     "output_type": "stream",
     "text": [
      "the avg of 20,12 and33 is 21.666666666666668\n"
     ]
    }
   ],
   "source": [
    "num1=20                     #gobal variables\n",
    "num2=12                     \n",
    "num3=33\n",
    "def avg():\n",
    "    \n",
    "    avg=(num1+num2+num3)/3\n",
    "    print(\"the avg of {},{} and{} is {}\".format(num1,num2,num3,avg))\n",
    "avg()"
   ]
  },
  {
   "cell_type": "code",
   "execution_count": 12,
   "id": "2aad249f",
   "metadata": {},
   "outputs": [
    {
     "data": {
      "text/plain": [
       "20"
      ]
     },
     "execution_count": 12,
     "metadata": {},
     "output_type": "execute_result"
    }
   ],
   "source": [
    "num1"
   ]
  },
  {
   "cell_type": "code",
   "execution_count": 15,
   "id": "99f5edb4",
   "metadata": {},
   "outputs": [
    {
     "name": "stdout",
     "output_type": "stream",
     "text": [
      "the avg of 20,12 and33 is 21.666666666666668\n"
     ]
    }
   ],
   "source": [
    "\n",
    "def avg():                   #local variables\n",
    "    num1=20\n",
    "    num2=12                     \n",
    "    num3=33\n",
    "    \n",
    "    avg=(num1+num2+num3)/3\n",
    "    print(\"the avg of {},{} and{} is {}\".format(num1,num2,num3,avg))\n",
    "    return(num1)                    # must we use return stat to call the fun\n",
    "val1=avg()\n"
   ]
  },
  {
   "cell_type": "code",
   "execution_count": 17,
   "id": "8fc10bf1",
   "metadata": {},
   "outputs": [
    {
     "data": {
      "text/plain": [
       "20"
      ]
     },
     "execution_count": 17,
     "metadata": {},
     "output_type": "execute_result"
    }
   ],
   "source": [
    "num1\n"
   ]
  },
  {
   "cell_type": "code",
   "execution_count": 22,
   "id": "1793c544",
   "metadata": {},
   "outputs": [
    {
     "name": "stdout",
     "output_type": "stream",
     "text": [
      "the add of 100 and10 is 110\n"
     ]
    }
   ],
   "source": [
    "num1=20                     #gobal variables\n",
    "num2=12                     \n",
    "\n",
    "def addition(num1):\n",
    "    num2=10\n",
    "    add=num1+num2\n",
    "    print(\"the add of {} and{} is {}\".format(num1,num2,add))\n",
    "addition(100)"
   ]
  },
  {
   "cell_type": "code",
   "execution_count": 23,
   "id": "2fbba57a",
   "metadata": {},
   "outputs": [
    {
     "name": "stdout",
     "output_type": "stream",
     "text": [
      "the add of 1 and10 is 11\n"
     ]
    }
   ],
   "source": [
    "num1=20                     #gobal variables\n",
    "num2=12                     \n",
    "\n",
    "def addition(num1=100):\n",
    "    num2=10\n",
    "    add=num1+num2\n",
    "    print(\"the add of {} and{} is {}\".format(num1,num2,add))\n",
    "addition(1)"
   ]
  },
  {
   "cell_type": "code",
   "execution_count": 24,
   "id": "9c4097a4",
   "metadata": {},
   "outputs": [
    {
     "name": "stdout",
     "output_type": "stream",
     "text": [
      "the add of 20 and10 is 30\n"
     ]
    }
   ],
   "source": [
    "num1=20                     #gobal variables\n",
    "num2=12                     \n",
    "\n",
    "def addition(num1):\n",
    "    num2=10\n",
    "    add=num1+num2\n",
    "    print(\"the add of {} and{} is {}\".format(num1,num2,add))\n",
    "addition(num1)"
   ]
  },
  {
   "cell_type": "code",
   "execution_count": 25,
   "id": "0c3b09a5",
   "metadata": {},
   "outputs": [
    {
     "name": "stdout",
     "output_type": "stream",
     "text": [
      "the add of 100 and10 is 110\n"
     ]
    }
   ],
   "source": [
    "num1=20                     #gobal variables\n",
    "num2=12                     \n",
    "\n",
    "def addition(num1,num2):\n",
    "    num2=10\n",
    "    add=num1+num2\n",
    "    print(\"the add of {} and{} is {}\".format(num1,num2,add))\n",
    "addition(100,200)"
   ]
  },
  {
   "cell_type": "code",
   "execution_count": 26,
   "id": "b35cc525",
   "metadata": {},
   "outputs": [
    {
     "name": "stdout",
     "output_type": "stream",
     "text": [
      "the add of 100 and10 is 110\n",
      "10\n"
     ]
    }
   ],
   "source": [
    "num1=20                     #gobal variables\n",
    "num2=12                     \n",
    "\n",
    "def addition(num1):\n",
    "    num2=10\n",
    "    add=num1+num2\n",
    "    print(\"the add of {} and{} is {}\".format(num1,num2,add))\n",
    "addition(100)\n",
    "print(n1)"
   ]
  },
  {
   "cell_type": "code",
   "execution_count": 1,
   "id": "d4776ca0",
   "metadata": {},
   "outputs": [
    {
     "name": "stdout",
     "output_type": "stream",
     "text": [
      "the add of 100 and 10 is 110\n",
      "20\n"
     ]
    }
   ],
   "source": [
    "num1=20                     #gobal variables\n",
    "num2=12                     \n",
    "\n",
    "def addition(num1):\n",
    "    num2=10\n",
    "    add=num1+num2\n",
    "    print(\"the add of {} and {} is {}\".format(num1,num2,add))\n",
    "addition(100)\n",
    "print(num1)"
   ]
  },
  {
   "cell_type": "code",
   "execution_count": 28,
   "id": "fefdca4f",
   "metadata": {},
   "outputs": [],
   "source": [
    "# there is no local and global concept in the condition stats"
   ]
  },
  {
   "cell_type": "raw",
   "id": "24b5dbdf",
   "metadata": {},
   "source": [
    "# i want to use local variable outside the func,with out using return stat\n",
    "**we must use global keyword"
   ]
  },
  {
   "cell_type": "code",
   "execution_count": null,
   "id": "90df3173",
   "metadata": {},
   "outputs": [],
   "source": [
    "n1=10\n",
    "def updated():\n",
    "    n1=n1+100\n",
    "    print(\"n1 value inside function is :\",n1)\n",
    "    updated()   #100\n",
    "    print(n1)    #10\n",
    "    \n",
    "    #with out return n1,we need to get the updated value\n",
    "    #we need to use local variable outside the fun,with out return"
   ]
  },
  {
   "cell_type": "code",
   "execution_count": 29,
   "id": "faca112e",
   "metadata": {},
   "outputs": [
    {
     "name": "stdout",
     "output_type": "stream",
     "text": [
      "10\n",
      "10\n"
     ]
    }
   ],
   "source": [
    "#****Important\n",
    "def value():\n",
    "    global number1\n",
    "    number1=10\n",
    "    print(number1)\n",
    "value()\n",
    "print(number1)"
   ]
  },
  {
   "cell_type": "code",
   "execution_count": 30,
   "id": "a842a097",
   "metadata": {},
   "outputs": [
    {
     "name": "stdout",
     "output_type": "stream",
     "text": [
      "10\n",
      "10\n"
     ]
    },
    {
     "ename": "NameError",
     "evalue": "name 'number2' is not defined",
     "output_type": "error",
     "traceback": [
      "\u001b[1;31m---------------------------------------------------------------------------\u001b[0m",
      "\u001b[1;31mNameError\u001b[0m                                 Traceback (most recent call last)",
      "Cell \u001b[1;32mIn[30], line 8\u001b[0m\n\u001b[0;32m      6\u001b[0m value()\n\u001b[0;32m      7\u001b[0m \u001b[38;5;28mprint\u001b[39m(number1)\n\u001b[1;32m----> 8\u001b[0m \u001b[38;5;28mprint\u001b[39m(number2)\n",
      "\u001b[1;31mNameError\u001b[0m: name 'number2' is not defined"
     ]
    }
   ],
   "source": [
    "def value():\n",
    "    global number1\n",
    "    number1=10\n",
    "    number2=15\n",
    "    print(number1)\n",
    "value()\n",
    "print(number1)\n",
    "print(number2)"
   ]
  },
  {
   "cell_type": "code",
   "execution_count": 32,
   "id": "07dc1624",
   "metadata": {},
   "outputs": [
    {
     "name": "stdout",
     "output_type": "stream",
     "text": [
      "10\n",
      "15\n",
      "10\n",
      "15\n"
     ]
    }
   ],
   "source": [
    "def value():\n",
    "    global number1,number2\n",
    "    number1=10\n",
    "    number2=15\n",
    "    print(number1)\n",
    "    print(number2)\n",
    "value()\n",
    "print(number1)\n",
    "print(number2)"
   ]
  },
  {
   "cell_type": "code",
   "execution_count": 37,
   "id": "a7984d70",
   "metadata": {},
   "outputs": [
    {
     "name": "stdout",
     "output_type": "stream",
     "text": [
      "n1 value inside function is : 120\n",
      "120\n"
     ]
    }
   ],
   "source": [
    "#****Important\n",
    "n_=10\n",
    "def updated():\n",
    "    global n_\n",
    "    n_=20\n",
    "    n_=n_+100\n",
    "    print(\"n1 value inside function is :\",n_)\n",
    "updated()   #110\n",
    "print(n_)    #120"
   ]
  },
  {
   "cell_type": "code",
   "execution_count": 40,
   "id": "5e6318e3",
   "metadata": {},
   "outputs": [
    {
     "name": "stdout",
     "output_type": "stream",
     "text": [
      "the add of 500 and 300 is 800\n",
      "300\n",
      "800\n"
     ]
    }
   ],
   "source": [
    "num1=20                    \n",
    "num2=30                     \n",
    "\n",
    "def addition(num1):\n",
    "    global num2,add\n",
    "    num2=300\n",
    "    add=num1+num2\n",
    "    print(\"the add of {} and {} is {}\".format(num1,num2,add))\n",
    "addition(500)\n",
    "print(num2)   # i need to get n2 value as 300,instead of getting 30\n",
    "print(add)   # i need to add value\n"
   ]
  },
  {
   "cell_type": "markdown",
   "id": "871b0fa8",
   "metadata": {},
   "source": [
    "FUNCTION IN FUNCTONS\n"
   ]
  },
  {
   "cell_type": "code",
   "execution_count": 42,
   "id": "9f312fbd",
   "metadata": {},
   "outputs": [
    {
     "name": "stdout",
     "output_type": "stream",
     "text": [
      "hello\n",
      "python\n"
     ]
    }
   ],
   "source": [
    "def greet():\n",
    "    print(\"hello\")    #one-fun\n",
    "def name():\n",
    "    print(\"python\")  #another-fun\n",
    "greet()\n",
    "name()\n",
    "    "
   ]
  },
  {
   "cell_type": "code",
   "execution_count": 43,
   "id": "c3db02bd",
   "metadata": {},
   "outputs": [
    {
     "name": "stdout",
     "output_type": "stream",
     "text": [
      "python\n",
      "hello\n"
     ]
    }
   ],
   "source": [
    "def greet():          #1\n",
    "    print(\"hello\")    #one-fun   ------>6\n",
    "def name():                 #------>2\n",
    "    print(\"python\")  #another-fun -------->4\n",
    "    greet()              #------>5\n",
    "name()            #----->3\n",
    "#step1-define greet()\n",
    "#2-define name()\n",
    "#3-calling name()\n",
    "#4-python\n",
    "##5-calling greet\n",
    "#6-hellow"
   ]
  },
  {
   "cell_type": "code",
   "execution_count": null,
   "id": "0b53e520",
   "metadata": {},
   "outputs": [],
   "source": [
    "def greet():          \n",
    "    print(\"hello\")\n",
    "    name()\n",
    "    \n",
    "def name():               \n",
    "    print(\"python\")  \n",
    "    greet()              \n",
    "              #infinite loop\n",
    "       #name() this will not excuste"
   ]
  },
  {
   "cell_type": "code",
   "execution_count": 45,
   "id": "51428458",
   "metadata": {},
   "outputs": [
    {
     "name": "stdout",
     "output_type": "stream",
     "text": [
      "hello\n",
      "python\n",
      "python\n",
      "hello\n",
      "hello\n",
      "python\n",
      "python\n"
     ]
    }
   ],
   "source": [
    "def greet():\n",
    "    print(\"hello\")   \n",
    "def name():\n",
    "    print(\"python\") \n",
    "greet()\n",
    "name()\n",
    "\n",
    "def greet():\n",
    "    print(\"hello\")   \n",
    "def name():\n",
    "    print(\"python\")  \n",
    "    greet()\n",
    "name()\n",
    "\n",
    "def greet():\n",
    "    print(\"hello\")    \n",
    "    name()\n",
    "def name():\n",
    "    print(\"python\")  \n",
    "    \n",
    "greet()\n",
    "name()"
   ]
  },
  {
   "cell_type": "code",
   "execution_count": 49,
   "id": "0cae641a",
   "metadata": {},
   "outputs": [
    {
     "name": "stdout",
     "output_type": "stream",
     "text": [
      "3\n",
      "10+10\n",
      "20\n",
      "hello\n",
      "python\n",
      "3+5\n",
      "8\n",
      "hello\n",
      "python\n",
      "good\n"
     ]
    }
   ],
   "source": [
    "print(3)            #1\n",
    "def fun1():\n",
    "    print(\"hello\")    #4\n",
    "    print(\"python\")    #5\n",
    "\n",
    "print(\"10+10\")     #2\n",
    "def fun2():\n",
    "    print(\"3+5\")    #6\n",
    "    print(3+5)     #7\n",
    "    fun1()\n",
    "    print(\"good\")      #9\n",
    "print(10+10)            #3\n",
    "def fun3():\n",
    "    fun1()\n",
    "    fun2()\n",
    "fun3()\n"
   ]
  },
  {
   "cell_type": "markdown",
   "id": "1586d34b",
   "metadata": {},
   "source": [
    "copy cheiy"
   ]
  },
  {
   "cell_type": "code",
   "execution_count": 2,
   "id": "ca9996f9",
   "metadata": {},
   "outputs": [
    {
     "name": "stdout",
     "output_type": "stream",
     "text": [
      "enter a number12\n",
      "enter a number :3\n",
      "enter u number 14\n",
      "a/b\n"
     ]
    }
   ],
   "source": [
    "\n",
    "a=eval(input(\"enter a number\"))\n",
    "b=eval(input(\"enter a number :\"))\n",
    "def add():\n",
    "    print(\"a+b\")   \n",
    "def sub():\n",
    "    print(\"a-b\") \n",
    "\n",
    "\n",
    "def mul():\n",
    "    print(\"a*b\")   \n",
    "def div():\n",
    "    print(\"a/b\")  \n",
    "def main():\n",
    "    num1=eval(input(\"enter u number 1\"))\n",
    "    \n",
    "    \n",
    "    if num1==1:\n",
    "        add(a,b)\n",
    "    elif num1==2:\n",
    "        sub(a-b)\n",
    "    elif num1==3:\n",
    "        mul(a*b)\n",
    "    else:\n",
    "        div()\n",
    "main()\n",
    "\n",
    "    \n",
    "    \n",
    "    "
   ]
  },
  {
   "cell_type": "markdown",
   "id": "8c7096ef",
   "metadata": {},
   "source": []
  }
 ],
 "metadata": {
  "kernelspec": {
   "display_name": "Python 3 (ipykernel)",
   "language": "python",
   "name": "python3"
  },
  "language_info": {
   "codemirror_mode": {
    "name": "ipython",
    "version": 3
   },
   "file_extension": ".py",
   "mimetype": "text/x-python",
   "name": "python",
   "nbconvert_exporter": "python",
   "pygments_lexer": "ipython3",
   "version": "3.11.5"
  }
 },
 "nbformat": 4,
 "nbformat_minor": 5
}
