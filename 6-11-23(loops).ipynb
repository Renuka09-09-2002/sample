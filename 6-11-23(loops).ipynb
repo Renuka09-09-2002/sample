{
 "cells": [
  {
   "cell_type": "code",
   "execution_count": 2,
   "id": "ed7c768a",
   "metadata": {},
   "outputs": [
    {
     "name": "stdout",
     "output_type": "stream",
     "text": [
      "hello\n",
      "hello\n",
      "hello\n"
     ]
    }
   ],
   "source": [
    "#wap print:hellow 3 times/iteration=======>loops\n",
    "for i in range(3):\n",
    "    i=\"hello\"               #print(\"hello\")\n",
    "    print(i)"
   ]
  },
  {
   "cell_type": "code",
   "execution_count": 3,
   "id": "b44eec0b",
   "metadata": {},
   "outputs": [
    {
     "name": "stdout",
     "output_type": "stream",
     "text": [
      "hello\n",
      "hello\n",
      "hello\n"
     ]
    }
   ],
   "source": [
    "print(\"hello\")\n",
    "print(\"hello\")          #generalisation\n",
    "print(\"hello\")\n"
   ]
  },
  {
   "cell_type": "code",
   "execution_count": 5,
   "id": "6e0d57b3",
   "metadata": {},
   "outputs": [
    {
     "name": "stdout",
     "output_type": "stream",
     "text": [
      "hai\n",
      "hello\n",
      "hello\n",
      "hello\n",
      "how  do u do ?\n"
     ]
    }
   ],
   "source": [
    "print(\"hai\")\n",
    "for i in range(3):\n",
    "    print(\"hello\")\n",
    "print(\"how  do u do ?\")"
   ]
  },
  {
   "cell_type": "code",
   "execution_count": 8,
   "id": "7cbb6e70",
   "metadata": {},
   "outputs": [
    {
     "name": "stdout",
     "output_type": "stream",
     "text": [
      "A\n",
      "A\n",
      "A\n",
      "B\n",
      "B\n",
      "C\n",
      "C\n",
      "C\n"
     ]
    }
   ],
   "source": [
    "#A\n",
    "#A\n",
    "#A\n",
    "#B\n",
    "#B\n",
    "#C\n",
    "#C\n",
    "#C\n",
    "for i in range(3):\n",
    "    print('A')\n",
    "for i in  range(2):\n",
    "    print(\"B\")\n",
    "for i in range(3):\n",
    "    print(\"C\")"
   ]
  },
  {
   "cell_type": "code",
   "execution_count": 1,
   "id": "45917c77",
   "metadata": {},
   "outputs": [
    {
     "name": "stdout",
     "output_type": "stream",
     "text": [
      "A\n",
      "B\n",
      "A\n",
      "B\n",
      "A\n",
      "B\n",
      "C\n",
      "C\n",
      "C\n"
     ]
    }
   ],
   "source": [
    "#A\n",
    "#B\n",
    "#A\n",
    "#B\n",
    "#A\n",
    "#B\n",
    "#C\n",
    "#C\n",
    "#C\n",
    "#print(\"A\")\n",
    "#print(\"B\")\n",
    "#print(\"A\")\n",
    "#print(\"B\")\n",
    "#print(\"A\")\n",
    "#print(\"B\")\n",
    "#for i in range(3):\n",
    "   # print(\"C\")\n",
    "    \n",
    "    \n",
    "   #OR\n",
    "for i in range(3):\n",
    "    print(\"A\")\n",
    "    print(\"B\")\n",
    "for i in range(3):\n",
    "    print(\"C\")\n",
    "\n",
    "\n"
   ]
  },
  {
   "cell_type": "code",
   "execution_count": 15,
   "id": "e748880b",
   "metadata": {},
   "outputs": [
    {
     "name": "stdout",
     "output_type": "stream",
     "text": [
      "the square of 10 is 100\n",
      "the square of 11 is 121\n",
      "the square of 12 is 144\n",
      "the square of 13 is 169\n",
      "the square of 14 is 196\n",
      "the square of 15 is 225\n"
     ]
    }
   ],
   "source": [
    "#square of the numbers\n",
    "#b/w 10-15\n",
    "#square 10 is 100\n",
    "#square 11 is 121\n",
    "#square 12 is 144\n",
    "for i in range(10,16):\n",
    "    print('the square of {} is {}'.format(i,i*i))\n"
   ]
  },
  {
   "cell_type": "code",
   "execution_count": 1,
   "id": "1bbf264c",
   "metadata": {},
   "outputs": [
    {
     "name": "stdout",
     "output_type": "stream",
     "text": [
      "enter the start number : 10\n",
      "enter the stop number : 16\n",
      "the square of 10 is 100\n",
      "the square of 11 is 121\n",
      "the square of 12 is 144\n",
      "the square of 13 is 169\n",
      "the square of 14 is 196\n",
      "the square of 15 is 225\n"
     ]
    }
   ],
   "source": [
    "#THE same above ques\n",
    "#take the no.s from keyboard\n",
    "#num1=eval()\n",
    "#num2=eval()\n",
    "#replace 10,16 in for loop with variables num1,num2\n",
    "num1=eval(input(\"enter the start number : \"))\n",
    "num2=eval(input(\"enter the stop number : \"))\n",
    "for i in range(num1,num2):\n",
    "    print('the square of {} is {}'.format(i,i*i))\n",
    "\n"
   ]
  },
  {
   "cell_type": "code",
   "execution_count": 3,
   "id": "98daf0ee",
   "metadata": {},
   "outputs": [
    {
     "name": "stdout",
     "output_type": "stream",
     "text": [
      "enter the start number : 10\n",
      "enter the stop number : 16\n",
      "the square of 10 is 100\n",
      "the square of 11 is 121\n",
      "the square of 12 is 144\n",
      "the square of 13 is 169\n",
      "the square of 14 is 196\n",
      "the square of 15 is 225\n"
     ]
    }
   ],
   "source": [
    "#fun without arguments\n",
    "def fun():\n",
    "    num1=eval(input(\"enter the start number : \"))\n",
    "    num2=eval(input(\"enter the stop number : \"))\n",
    "    for i in range(num1,num2):\n",
    "        print('the square of {} is {}'.format(i,i*i))\n",
    "fun()\n",
    "\n"
   ]
  },
  {
   "cell_type": "code",
   "execution_count": 3,
   "id": "68b8bab8",
   "metadata": {},
   "outputs": [
    {
     "name": "stdout",
     "output_type": "stream",
     "text": [
      "the square of 10 is 100\n",
      "the square of 11 is 121\n",
      "the square of 12 is 144\n",
      "the square of 13 is 169\n",
      "the square of 14 is 196\n",
      "the square of 15 is 225\n"
     ]
    }
   ],
   "source": [
    "num1=10\n",
    "num2=16\n",
    "for i in range(num1,num2):\n",
    "    print('the square of {} is {}'.format(i,i*i))\n"
   ]
  },
  {
   "cell_type": "code",
   "execution_count": 5,
   "id": "abf34ae5",
   "metadata": {},
   "outputs": [
    {
     "name": "stdout",
     "output_type": "stream",
     "text": [
      "enter the start number : 10\n",
      "enter the stop number : 16\n",
      "the square of 10 is 100\n",
      "the square of 11 is 121\n",
      "the square of 12 is 144\n",
      "the square of 13 is 169\n",
      "the square of 14 is 196\n",
      "the square of 15 is 225\n"
     ]
    }
   ],
   "source": [
    "#fun with arguments\n",
    "def fun(num1,num2):\n",
    "    num1=eval(input(\"enter the start number : \"))\n",
    "    num2=eval(input(\"enter the stop number : \"))\n",
    "    for i in range(num1,num2):\n",
    "        print('the square of {} is {}'.format(i,i*i))\n",
    "fun(num1,num2)\n"
   ]
  },
  {
   "cell_type": "code",
   "execution_count": 11,
   "id": "dad6e530",
   "metadata": {},
   "outputs": [
    {
     "name": "stdout",
     "output_type": "stream",
     "text": [
      "print the numbers b/w 10  is 100\n",
      "print the numbers b/w 11  is 121\n",
      "print the numbers b/w 12  is 144\n",
      "print the numbers b/w 13  is 169\n",
      "print the numbers b/w 14  is 196\n",
      "print the numbers b/w 15  is 225\n"
     ]
    }
   ],
   "source": [
    "def square(num1,num2):\n",
    "    for i in range(num1,num2):\n",
    "        print('print the numbers b/w {}  is {}'.format(i,i*i))\n",
    "square(10,16)\n",
    "\n",
    "\n",
    "    \n",
    "        \n"
   ]
  },
  {
   "cell_type": "code",
   "execution_count": 1,
   "id": "92938399",
   "metadata": {},
   "outputs": [
    {
     "name": "stdout",
     "output_type": "stream",
     "text": [
      "enter a number : 1\n",
      "the square of num 1 is 1\n",
      "enter a number : 2\n",
      "the square of num 2 is 4\n",
      "enter a number : 3\n",
      "the square of num 3 is 9\n",
      "enter a number : 4\n",
      "the square of num 4 is 16\n",
      "enter a number : 5\n",
      "the square of num 5 is 25\n"
     ]
    }
   ],
   "source": [
    "#print square of the 5 no.s\n",
    "#these 5 no.s,u need to ask user every time\n",
    "for i in range(5):\n",
    "    num=eval(input(\"enter a number : \"))                   #local variables\n",
    "    print(\"the square of num {} is {}\".format(num,num*num))\n",
    "    \n",
    "    "
   ]
  },
  {
   "cell_type": "code",
   "execution_count": 2,
   "id": "ba53f906",
   "metadata": {},
   "outputs": [
    {
     "name": "stdout",
     "output_type": "stream",
     "text": [
      "enter a number : 3\n",
      "the square of num 3 is 9\n",
      "the square of num 3 is 9\n",
      "the square of num 3 is 9\n",
      "the square of num 3 is 9\n",
      "the square of num 3 is 9\n"
     ]
    }
   ],
   "source": [
    "num=eval(input(\"enter a number : \"))             #global variables\n",
    "for i in range(5):\n",
    "    \n",
    "    print(\"the square of num {} is {}\".format(num,num*num))\n",
    "    \n",
    "    "
   ]
  },
  {
   "cell_type": "code",
   "execution_count": 9,
   "id": "4820aef2",
   "metadata": {},
   "outputs": [
    {
     "name": "stdout",
     "output_type": "stream",
     "text": [
      "the square of num 20 is 400\n",
      "the square of num 11 is 121\n",
      "the square of num 10 is 100\n",
      "the square of num 16 is 256\n",
      "the square of num 17 is 289\n"
     ]
    }
   ],
   "source": [
    "#print 5 times square of a no.s\n",
    "#this time we need to take every time a random number b/w 1,20\n",
    "\n",
    "import random\n",
    "for i in range(5):\n",
    "    num=random.randint(1,20)\n",
    "    print(\"the square of num {} is {}\".format(num,num*num))   \n",
    "\n"
   ]
  },
  {
   "cell_type": "code",
   "execution_count": 10,
   "id": "9ad16b6e",
   "metadata": {},
   "outputs": [
    {
     "name": "stdout",
     "output_type": "stream",
     "text": [
      "the square of num 1 is 1\n",
      "the square of num 2 is 4\n",
      "the square of num 3 is 9\n",
      "the square of num 4 is 16\n",
      "the square of num 5 is 25\n"
     ]
    }
   ],
   "source": [
    "import random\n",
    "for i in range(1,6):\n",
    "    print(\"the square of num {} is {}\".format(i,i*i))"
   ]
  },
  {
   "cell_type": "code",
   "execution_count": 23,
   "id": "1afda716",
   "metadata": {},
   "outputs": [
    {
     "name": "stdout",
     "output_type": "stream",
     "text": [
      "the number 10 even\n",
      "the number 11  odd\n",
      "the number 12 even\n",
      "the number 13  odd\n",
      "the number 14 even\n",
      "the number 15  odd\n",
      "the number 16 even\n",
      "the number 17  odd\n",
      "the number 18 even\n",
      "the number 19  odd\n",
      "the number 20 even\n",
      "the number 21  odd\n",
      "the number 22 even\n",
      "the number 23  odd\n",
      "the number 24 even\n",
      "the number 25  odd\n",
      "the number 26 even\n",
      "the number 27  odd\n",
      "the number 28 even\n",
      "the number 29  odd\n",
      "the number 30 even\n"
     ]
    }
   ],
   "source": [
    "#print the given number is even/odd\n",
    "#u need to take the no. b/w 10-30\n",
    "#iterate the loop b/w 10-30\n",
    "#every time apply if i%2==0:print even\n",
    "#                   else:print odd\n",
    "for i in range(10,31):\n",
    "    if i%2==0:\n",
    "        print(\"the number {} even\".format(i))\n",
    "    else:\n",
    "        print(\"the number {}  odd\".format(i))\n"
   ]
  },
  {
   "cell_type": "code",
   "execution_count": 24,
   "id": "7a092ce7",
   "metadata": {},
   "outputs": [
    {
     "name": "stdout",
     "output_type": "stream",
     "text": [
      "the number 0 even\n",
      "the number 1  odd\n",
      "the number 2 even\n",
      "the number 3  odd\n",
      "the number 4 even\n"
     ]
    }
   ],
   "source": [
    " #question copy\n",
    "import random\n",
    "\n",
    "for i in range(5):\n",
    "    num=random.randint(10,20)\n",
    "    if i%2==0:\n",
    "        print(\"the number {} even\".format(i))\n",
    "    else:\n",
    "        print(\"the number {}  odd\".format(i))\n",
    "    "
   ]
  },
  {
   "cell_type": "code",
   "execution_count": 4,
   "id": "8310b376",
   "metadata": {},
   "outputs": [
    {
     "name": "stdout",
     "output_type": "stream",
     "text": [
      "the number 19  odd\n",
      "the number 14 even\n",
      "the number 19  odd\n",
      "the number 20 even\n",
      "the number 18 even\n"
     ]
    }
   ],
   "source": [
    "def even_odd(num):\n",
    "        \n",
    "        if num%2==0:\n",
    "            print(\"the number {} even\".format(num))\n",
    "        else:\n",
    "            print(\"the number {}  odd\".format(num))\n",
    "import random\n",
    "\n",
    "for i in range(5):\n",
    "    num=random.randint(10,20)\n",
    "            \n",
    "    even_odd(num)\n",
    "    \n",
    "        "
   ]
  },
  {
   "cell_type": "code",
   "execution_count": 33,
   "id": "0bfcc734",
   "metadata": {},
   "outputs": [
    {
     "name": "stdout",
     "output_type": "stream",
     "text": [
      "the number 14 even\n"
     ]
    }
   ],
   "source": [
    "def even_odd(num):\n",
    "        \n",
    "        if num%2==0:\n",
    "            print(\"the number {} even\".format(num))\n",
    "        else:\n",
    "            print(\"the number {}  odd\".format(num))\n",
    "import random\n",
    "\n",
    "for i in range(5):\n",
    "    num=random.randint(10,20)\n",
    "            \n",
    "even_odd(num)"
   ]
  },
  {
   "cell_type": "code",
   "execution_count": 37,
   "id": "a8202ecb",
   "metadata": {},
   "outputs": [
    {
     "name": "stdout",
     "output_type": "stream",
     "text": [
      "enter a number b/w 1-10 is : 3\n",
      "u lose\n",
      "enter a number b/w 1-10 is : 5\n",
      "u lose\n",
      "enter a number b/w 1-10 is : 1\n",
      "u won\n"
     ]
    }
   ],
   "source": [
    "# 5 lines\n",
    "#take a random number from random package b/w 1-10\n",
    "#----------------repeat 3 times ------------------------\n",
    "#ask  the user enter a number b/w 1-10\n",
    "#if the number ==random number:\n",
    "#print('u won')\n",
    "#else:\n",
    "#print('u lose')\n",
    "import random\n",
    "random_number=random.randint(1,10)\n",
    "for i in range(3):\n",
    "    user=eval(input(\"enter a number b/w 1-10 is : \"))\n",
    "    \n",
    "    if user==random_number:\n",
    "        print(\"u won\")\n",
    "    else:\n",
    "        print(\"u lose\")\n",
    "    \n",
    "\n"
   ]
  },
  {
   "cell_type": "code",
   "execution_count": 38,
   "id": "248908a5",
   "metadata": {},
   "outputs": [
    {
     "name": "stdout",
     "output_type": "stream",
     "text": [
      "2\n",
      "enter a number b/w 1-10 is : 2\n",
      "u won\n"
     ]
    }
   ],
   "source": [
    "#diffrenet method\n",
    "import random\n",
    "random_number=random.randint(1,10)\n",
    "print(random_number)\n",
    "for i in range(3):\n",
    "    user=eval(input(\"enter a number b/w 1-10 is : \"))\n",
    "\n",
    "    if user==random_number:\n",
    "        print(\"u won\")\n",
    "        break\n",
    "    else:\n",
    "        print(\"u lose\")"
   ]
  },
  {
   "cell_type": "code",
   "execution_count": 6,
   "id": "201e7f45",
   "metadata": {},
   "outputs": [
    {
     "name": "stdout",
     "output_type": "stream",
     "text": [
      "8\n",
      "enter a number b/w 1-10 is : 1\n",
      "u lose\n",
      "the no.of chances remainding is: 2\n",
      "enter a number b/w 1-10 is : 2\n",
      "u lose\n",
      "the no.of chances remainding is: 1\n",
      "enter a number b/w 1-10 is : 3\n",
      "u lose\n",
      "the no.of chances remainding is: 0\n"
     ]
    }
   ],
   "source": [
    "#improvise above code\n",
    "#you need to mention number of chances left\n",
    "#the user whenever he fail/lose\n",
    "import random\n",
    "random_number=random.randint(1,10)\n",
    "print(random_number)\n",
    "for i in range(3):\n",
    "    user=eval(input(\"enter a number b/w 1-10 is : \"))\n",
    "\n",
    "    if user==random_number:\n",
    "        print(\"u won\")\n",
    "        break\n",
    "    else:\n",
    "        print(\"u lose\")\n",
    "        print(\"the no.of chances remainding is:\",2-i)"
   ]
  },
  {
   "cell_type": "code",
   "execution_count": 2,
   "id": "ec0ac7c5",
   "metadata": {},
   "outputs": [
    {
     "name": "stdout",
     "output_type": "stream",
     "text": [
      "8\n",
      "enter a number b/w 1-10 is : 2\n",
      "u lose\n",
      "the no.of chances remainding is: 2\n",
      "enter a number b/w 1-10 is : 3\n",
      "u lose\n",
      "the no.of chances remainding is: 1\n",
      "enter a number b/w 1-10 is : 4\n",
      "u lose\n",
      "the no.of chances remainding is: 0\n"
     ]
    }
   ],
   "source": [
    "import random\n",
    "random_number=random.randint(1,10)\n",
    "print(random_number)\n",
    "for i in range(3):\n",
    "    user=eval(input(\"enter a number b/w 1-10 is : \"))\n",
    "\n",
    "    if user==random_number:\n",
    "        print(\"u won\")\n",
    "        break\n",
    "    else:\n",
    "        print(\"u lose\")\n",
    "        print(\"the no.of chances remainding is:\",2-i)"
   ]
  },
  {
   "cell_type": "code",
   "execution_count": 5,
   "id": "be09e257",
   "metadata": {},
   "outputs": [
    {
     "name": "stdout",
     "output_type": "stream",
     "text": [
      "enter how many chances ,u will provide :4\n",
      "2\n",
      "enter a number b/w 1-10 is : 1\n",
      "u lose\n",
      "the no.of chances remainding is: 3\n",
      "enter a number b/w 1-10 is : 3\n",
      "u lose\n",
      "the no.of chances remainding is: 2\n",
      "enter a number b/w 1-10 is : 4\n",
      "u lose\n",
      "the no.of chances remainding is: 1\n",
      "enter a number b/w 1-10 is : 5\n",
      "u lose\n",
      "the no.of chances remainding is: 0\n"
     ]
    }
   ],
   "source": [
    "import random\n",
    "random_number=random.randint(1,10)\n",
    "chances=eval(input(\"enter how many chances ,u will provide :\"))\n",
    "print(random_number)\n",
    "for i in range(chances):\n",
    "    user=eval(input(\"enter a number b/w 1-10 is : \"))\n",
    "\n",
    "    if user==random_number:\n",
    "        print(\"u won\")\n",
    "        break\n",
    "    else:\n",
    "        print(\"u lose\")\n",
    "        print(\"the no.of chances remainding is:\",chances-1-i)"
   ]
  },
  {
   "cell_type": "code",
   "execution_count": 6,
   "id": "012d36d9",
   "metadata": {},
   "outputs": [
    {
     "name": "stdout",
     "output_type": "stream",
     "text": [
      "enter how many chances ,u will provide :5\n",
      "4\n",
      "enter a number b/w 1-10 is : 1\n",
      "u lose\n",
      "the no.of chances remainding is: 4\n",
      "enter a number b/w 1-10 is : 2\n",
      "u lose\n",
      "the no.of chances remainding is: 4\n",
      "enter a number b/w 1-10 is : 3\n",
      "u lose\n",
      "the no.of chances remainding is: 4\n",
      "enter a number b/w 1-10 is : 6\n",
      "u lose\n",
      "the no.of chances remainding is: 4\n",
      "enter a number b/w 1-10 is : 3\n",
      "u lose\n",
      "the no.of chances remainding is: 4\n"
     ]
    }
   ],
   "source": [
    "import random\n",
    "random_number=random.randint(1,10)\n",
    "chances=eval(input(\"enter how many chances ,u will provide :\"))\n",
    "print(random_number)\n",
    "for i in range(chances):\n",
    "    user=eval(input(\"enter a number b/w 1-10 is : \"))\n",
    "\n",
    "    if user==random_number:\n",
    "        print(\"u won\")\n",
    "        break\n",
    "    else:\n",
    "        print(\"u lose\")\n",
    "        print(\"the no.of chances remainding is:\",chances-1)"
   ]
  },
  {
   "cell_type": "code",
   "execution_count": null,
   "id": "3402ee98",
   "metadata": {},
   "outputs": [],
   "source": [
    "#generalized expression\n",
    "import random\n",
    "random_number=random.randint(1,10)\n",
    "chances=eval(input(\"enter how many chances ,u will provide :\"))\n",
    "print(random_number)\n",
    "for i in range(chances):\n",
    "    user=eval(input(\"enter a number b/w 1-10 is : \"))\n",
    "\n",
    "    if user==random_number:\n",
    "        print(\"u won\")\n",
    "        break\n",
    "    else:\n",
    "        print(\"u lose\")\n",
    "        print(\"the no.of chances remainding is:\",chances-1-i)\n"
   ]
  },
  {
   "cell_type": "code",
   "execution_count": 17,
   "id": "a5c24b5e",
   "metadata": {},
   "outputs": [
    {
     "name": "stdout",
     "output_type": "stream",
     "text": [
      "enter how many chances ,u will provide :3\n",
      "5\n",
      "enter a number b/w 1-10 is : 1\n",
      "u lose\n",
      "the no.of chances remainding is: 2\n",
      "enter a number b/w 1-10 is : 2\n",
      "u lose\n",
      "the no.of chances remainding is: 1\n",
      "enter a number b/w 1-10 is : 3\n",
      "pls try again after 10 mins\n"
     ]
    }
   ],
   "source": [
    "#improvised the above code \n",
    "#whenever the user lost all the chances\n",
    "#it should print all the chances are over\n",
    "#print(\"pls try again after 10mins\")\n",
    "\n",
    "\n",
    "\n",
    "\n",
    "#u need to provide  more conditions\n",
    "\n",
    "import random\n",
    "random_number=random.randint(1,10)\n",
    "chances=eval(input(\"enter how many chances ,u will provide :\"))\n",
    "print(random_number)\n",
    "for i in range(chances):\n",
    "    user=eval(input(\"enter a number b/w 1-10 is : \"))\n",
    "\n",
    "    if user==random_number:\n",
    "        print(\"u won\")\n",
    "        break\n",
    "    elif chances-1-i==0:\n",
    "        print(\"pls try again after 10 mins\")\n",
    "    else:\n",
    "        print(\"u lose\")\n",
    "        print(\"the no.of chances remainding is:\",chances-1-i)\n",
    "#  \n",
    "    "
   ]
  },
  {
   "cell_type": "code",
   "execution_count": 9,
   "id": "a2a53e09",
   "metadata": {},
   "outputs": [
    {
     "name": "stdout",
     "output_type": "stream",
     "text": [
      "enter how many chances ,u will provide :3\n",
      "1\n",
      "enter a number b/w 1-10 is : 2\n",
      "u lose\n",
      "the no.of chances remainding is: 2\n",
      "enter a number b/w 1-10 is : 1\n",
      "u won\n",
      "enter a number b/w 1-10 is : 3\n",
      "pls try again after 10 mins\n"
     ]
    }
   ],
   "source": [
    "import random\n",
    "random_number=random.randint(1,10)\n",
    "chances=eval(input(\"enter how many chances ,u will provide :\"))\n",
    "print(random_number)\n",
    "for i in range(chances):\n",
    "    user=eval(input(\"enter a number b/w 1-10 is : \"))\n",
    "\n",
    "    if user==random_number:\n",
    "        print(\"u won\")\n",
    "        \n",
    "    elif chances-1-i==0:\n",
    "        print(\"pls try again after 10 mins\")\n",
    "    else:\n",
    "        print(\"u lose\")\n",
    "        print(\"the no.of chances remainding is:\",chances-1-i)"
   ]
  },
  {
   "cell_type": "code",
   "execution_count": 19,
   "id": "3a107209",
   "metadata": {},
   "outputs": [
    {
     "name": "stdout",
     "output_type": "stream",
     "text": [
      "enter how many chances ,u will provide :2\n",
      "4\n",
      "enter a number b/w 1-10 is : 1\n",
      "u lose\n",
      "the no.of chances remainding is: 1\n",
      "-----------------------------------\n",
      "enter a number b/w 1-10 is : 3\n",
      "pls try again after 10 mins\n"
     ]
    }
   ],
   "source": [
    "import random\n",
    "random_number=random.randint(1,10)\n",
    "chances=eval(input(\"enter how many chances ,u will provide :\"))\n",
    "print(random_number)\n",
    "for i in range(chances):\n",
    "    user=eval(input(\"enter a number b/w 1-10 is : \"))\n",
    "\n",
    "    if user==random_number:\n",
    "        print(\"u won\")\n",
    "        break\n",
    "    elif chances-1-i==0:\n",
    "        print(\"pls try again after 10 mins\")\n",
    "    else:\n",
    "        print(\"u lose\")\n",
    "        print(\"the no.of chances remainding is:\",chances-1-i)\n",
    "        print(\"-----------------------------------\")"
   ]
  },
  {
   "cell_type": "markdown",
   "id": "b596e30b",
   "metadata": {},
   "source": [
    "$NESTED LOOP$"
   ]
  },
  {
   "cell_type": "code",
   "execution_count": 5,
   "id": "1f54bb16",
   "metadata": {},
   "outputs": [
    {
     "name": "stdout",
     "output_type": "stream",
     "text": [
      "q is loves e\n",
      "q is loves d\n",
      "q is loves p\n",
      "d is loves e\n",
      "d is loves d\n",
      "d is loves p\n",
      "f is loves e\n",
      "f is loves d\n",
      "f is loves p\n"
     ]
    }
   ],
   "source": [
    "a=[\"q\",\"d\",\"f\"]\n",
    "b=[\"e\",\"d\",\"p\"]\n",
    "for i in a:\n",
    "    for j in b:\n",
    "        print(\"{} is loves {}\".format(i,j))\n",
    "              \n"
   ]
  },
  {
   "cell_type": "markdown",
   "id": "b0e2fbce",
   "metadata": {},
   "source": [
    "$BREAK$"
   ]
  },
  {
   "cell_type": "code",
   "execution_count": 11,
   "id": "4ed67fc1",
   "metadata": {},
   "outputs": [
    {
     "name": "stdout",
     "output_type": "stream",
     "text": [
      "the 1st elemnet is  p\n"
     ]
    }
   ],
   "source": [
    "n=\"python\"\n",
    "for i in n:\n",
    "    break\n",
    "print(\"the 1st elemnet is \",format(i))"
   ]
  },
  {
   "cell_type": "markdown",
   "id": "2e431d0d",
   "metadata": {},
   "source": [
    "$pass$"
   ]
  },
  {
   "cell_type": "code",
   "execution_count": 13,
   "id": "667290b3",
   "metadata": {},
   "outputs": [
    {
     "name": "stdout",
     "output_type": "stream",
     "text": [
      "the last elemnet is  n\n"
     ]
    }
   ],
   "source": [
    "n=\"python\"\n",
    "for i in n:\n",
    "    pass\n",
    "print(\"the last elemnet is \",format(i))"
   ]
  },
  {
   "cell_type": "code",
   "execution_count": null,
   "id": "11e23767",
   "metadata": {},
   "outputs": [],
   "source": []
  }
 ],
 "metadata": {
  "kernelspec": {
   "display_name": "Python 3 (ipykernel)",
   "language": "python",
   "name": "python3"
  },
  "language_info": {
   "codemirror_mode": {
    "name": "ipython",
    "version": 3
   },
   "file_extension": ".py",
   "mimetype": "text/x-python",
   "name": "python",
   "nbconvert_exporter": "python",
   "pygments_lexer": "ipython3",
   "version": "3.11.5"
  }
 },
 "nbformat": 4,
 "nbformat_minor": 5
}
