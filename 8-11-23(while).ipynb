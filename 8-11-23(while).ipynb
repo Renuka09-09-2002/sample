{
 "cells": [
  {
   "cell_type": "code",
   "execution_count": null,
   "id": "408cb398",
   "metadata": {},
   "outputs": [],
   "source": [
    "#any loop we need 3 things\n",
    "1-intialization\n",
    "2-condition\n",
    "3-increment/decrement"
   ]
  },
  {
   "cell_type": "code",
   "execution_count": null,
   "id": "b2fc071a",
   "metadata": {},
   "outputs": [],
   "source": [
    "for i in range(10)\n",
    "\n",
    "\n",
    "In while loop we need to provide all three are individually\n",
    "while is a wrapper\n",
    "    "
   ]
  },
  {
   "cell_type": "code",
   "execution_count": null,
   "id": "8844a556",
   "metadata": {},
   "outputs": [],
   "source": [
    "#1-intialization=0\n",
    "#2-while wrapper\n",
    "    conditions\n",
    "3-increment\n",
    "4-condition:whenever we see the "
   ]
  },
  {
   "cell_type": "code",
   "execution_count": null,
   "id": "f1cd8073",
   "metadata": {},
   "outputs": [],
   "source": [
    "i=o\n",
    "while<condtion>:\n",
    "    stat-1\n",
    "    stat-2\n",
    "    i=i+1"
   ]
  },
  {
   "cell_type": "code",
   "execution_count": 3,
   "id": "a095814d",
   "metadata": {},
   "outputs": [
    {
     "name": "stdout",
     "output_type": "stream",
     "text": [
      "0 1 2 3 4 5 6 7 8 9 "
     ]
    }
   ],
   "source": [
    "#I want print first10 numbers 0-9\n",
    "for i in range(10):\n",
    "    print(i,end=\" \")"
   ]
  },
  {
   "cell_type": "code",
   "execution_count": null,
   "id": "47a689c2",
   "metadata": {},
   "outputs": [],
   "source": [
    "i=0\n",
    "while <condition>:\n",
    "    print(i,end=\" \")\n",
    "    i=i+1\n",
    "    \n",
    "#tell me some true conditions based on i=0\n",
    "#i<100\n",
    "#i>=0\n",
    "#i<10\n",
    "#i>-1\n",
    "#i!=1"
   ]
  },
  {
   "cell_type": "code",
   "execution_count": 4,
   "id": "df8a6348",
   "metadata": {},
   "outputs": [
    {
     "name": "stdout",
     "output_type": "stream",
     "text": [
      "0 1 2 3 4 5 6 7 8 9 "
     ]
    }
   ],
   "source": [
    "i=0\n",
    "while i<10:                    #condition is inportant\n",
    "    print(i,end=\" \")\n",
    "    i=i+1"
   ]
  },
  {
   "cell_type": "code",
   "execution_count": null,
   "id": "4518d7ba",
   "metadata": {},
   "outputs": [],
   "source": [
    "-If u want avoid infinite loop,give proper a condition\n",
    "-based on given question\n",
    "-even through the cndition is valid,u enter inside the loop\n",
    "-but u never come out from the loop"
   ]
  },
  {
   "cell_type": "code",
   "execution_count": 8,
   "id": "4f9bddcc",
   "metadata": {},
   "outputs": [
    {
     "name": "stdout",
     "output_type": "stream",
     "text": [
      "10 11 12 13 14 15 16 17 18 19 20 "
     ]
    }
   ],
   "source": [
    "#print the value b/w 10-20\n",
    "i=10\n",
    "while i<=20:\n",
    "    print(i,end=\" \")\n",
    "    i=i+1"
   ]
  },
  {
   "cell_type": "code",
   "execution_count": 6,
   "id": "d39bbdb4",
   "metadata": {},
   "outputs": [
    {
     "name": "stdout",
     "output_type": "stream",
     "text": [
      "-1 -2 -3 -4 -5 -6 -7 -8 -9 -10 "
     ]
    }
   ],
   "source": [
    "#print -1 to -10\n",
    "i=-1\n",
    "while i>-11:\n",
    "    print(i,end=\" \")\n",
    "    i=i-1"
   ]
  },
  {
   "cell_type": "code",
   "execution_count": 8,
   "id": "bab4860c",
   "metadata": {},
   "outputs": [
    {
     "name": "stdout",
     "output_type": "stream",
     "text": [
      "-1 -2 -3 -4 -5 -6 -7 -8 -9 -10 "
     ]
    }
   ],
   "source": [
    "#Best condition for while\n",
    "i=-1\n",
    "while True:\n",
    "    print(i,end=\" \")\n",
    "    i=i-1\n",
    "    if i==-11:\n",
    "        break\n",
    "    "
   ]
  },
  {
   "cell_type": "code",
   "execution_count": null,
   "id": "b053699d",
   "metadata": {},
   "outputs": [],
   "source": [
    "#by mistake u provided not a valid condition\n",
    "#then u r loop is going infinetly\n",
    "#then provide a if condition inside the loop\n",
    "                 break\n",
    "\n",
    "#suppose u r not good at provide condition\n",
    "#then apply while True------- then provide the if condition\n",
    "#inside the loop"
   ]
  },
  {
   "cell_type": "code",
   "execution_count": 10,
   "id": "3b68dc63",
   "metadata": {},
   "outputs": [
    {
     "name": "stdout",
     "output_type": "stream",
     "text": [
      "0 1 2 3 4 5 6 7 8 9 0 1 2 3 4 5 6 7 8 9 "
     ]
    }
   ],
   "source": [
    "################Infinite loop #############\n",
    "i=0\n",
    "while i>=10:\n",
    "    print(i,end=\" \")\n",
    "    i=i+1\n",
    "    if i==-11:\n",
    "        break\n",
    "    \n",
    "#########True#####################\n",
    "i=0\n",
    "while True:\n",
    "    print(i,end=\" \")\n",
    "    i=i+1\n",
    "    if i==10:\n",
    "        break\n",
    "    \n",
    "############I know the condition ##############\n",
    "i=0\n",
    "while i<10:\n",
    "    print(i,end=\" \")\n",
    "    i=i+1\n",
    "    "
   ]
  },
  {
   "cell_type": "code",
   "execution_count": 15,
   "id": "30caa60f",
   "metadata": {},
   "outputs": [
    {
     "name": "stdout",
     "output_type": "stream",
     "text": [
      "enter a number 5 times :1\n",
      "the square of 5 numbers 1 is 1\n",
      "enter a number 5 times :2\n",
      "the square of 5 numbers 2 is 4\n",
      "enter a number 5 times :3\n",
      "the square of 5 numbers 3 is 9\n",
      "enter a number 5 times :4\n",
      "the square of 5 numbers 4 is 16\n",
      "enter a number 5 times :5\n",
      "the square of 5 numbers 5 is 25\n"
     ]
    }
   ],
   "source": [
    "#ask the user enter a number 5 time\n",
    "#print the square of a number\n",
    "\n",
    "#first do with for loop\n",
    "#then with while loop\n",
    "\n",
    "\n",
    "for i in range(5):\n",
    "    num=eval(input(\"enter a number 5 times :\"))\n",
    "   \n",
    "    print('the square of 5 numbers {} is {}'.format(num,num*num))"
   ]
  },
  {
   "cell_type": "code",
   "execution_count": 1,
   "id": "eaa6700c",
   "metadata": {},
   "outputs": [
    {
     "name": "stdout",
     "output_type": "stream",
     "text": [
      "enter a number 5 times1\n",
      "the square of 5 numbers 1 is 1\n",
      "enter a number 5 times2\n",
      "the square of 5 numbers 2 is 4\n",
      "enter a number 5 times3\n",
      "the square of 5 numbers 3 is 9\n",
      "enter a number 5 times4\n",
      "the square of 5 numbers 4 is 16\n",
      "enter a number 5 times5\n",
      "the square of 5 numbers 5 is 25\n"
     ]
    }
   ],
   "source": [
    "i=0\n",
    "while i<=4:\n",
    "    num=eval(input(\"enter a number 5 times\"))\n",
    "    \n",
    "    print('the square of 5 numbers {} is {}'.format(num,num*num))\n",
    "    i=i+1\n",
    "    \n"
   ]
  },
  {
   "cell_type": "code",
   "execution_count": 3,
   "id": "e6c5ebde",
   "metadata": {},
   "outputs": [
    {
     "name": "stdout",
     "output_type": "stream",
     "text": [
      "the random numbers of 12 is 144\n",
      "the random numbers of 15 is 225\n",
      "the random numbers of 11 is 121\n",
      "the random numbers of 19 is 361\n",
      "the random numbers of 19 is 361\n"
     ]
    }
   ],
   "source": [
    "#take a random number b/w 10-20,5 times u need to take \n",
    "#and print the square of the number\n",
    "#do it in for loop\n",
    "#then while loop\n",
    "\n",
    "\n",
    "import random\n",
    "for i in range(5):\n",
    "    num=random.randint(10,20)\n",
    "    print(\"the random numbers of {} is {}\".format(num,num*num))"
   ]
  },
  {
   "cell_type": "code",
   "execution_count": 3,
   "id": "996a87da",
   "metadata": {},
   "outputs": [
    {
     "name": "stdout",
     "output_type": "stream",
     "text": [
      "the random numbers of 14 is 196\n",
      "the random numbers of 16 is 256\n",
      "the random numbers of 15 is 225\n",
      "the random numbers of 12 is 144\n",
      "the random numbers of 12 is 144\n"
     ]
    }
   ],
   "source": [
    "import random\n",
    "i=0\n",
    "while i<=4:\n",
    "    num=random.randint(10,20)\n",
    "    print(\"the random numbers of {} is {}\".format(num,num*num))\n",
    "    i=i+1"
   ]
  },
  {
   "cell_type": "code",
   "execution_count": 6,
   "id": "ec3e47a4",
   "metadata": {},
   "outputs": [
    {
     "name": "stdout",
     "output_type": "stream",
     "text": [
      "10 is a even number  \n",
      "11 is odd number \n",
      "12 is a even number  \n",
      "13 is odd number \n",
      "14 is a even number  \n",
      "15 is odd number \n",
      "16 is a even number  \n",
      "17 is odd number \n",
      "18 is a even number  \n",
      "19 is odd number \n",
      "20 is a even number  \n"
     ]
    }
   ],
   "source": [
    "#ask the user print a nunber is even/odd\n",
    "#consider the numbers from 10-20\n",
    "#for\n",
    "#while\n",
    "\n",
    "for i in range(10,21):\n",
    "    if i%2==0:\n",
    "        print(\"{} is a even number  \".format(i))\n",
    "    else:\n",
    "        print(\"{} is odd number \".format(i))\n",
    "   \n",
    "    \n"
   ]
  },
  {
   "cell_type": "code",
   "execution_count": 17,
   "id": "e6a983ec",
   "metadata": {},
   "outputs": [
    {
     "name": "stdout",
     "output_type": "stream",
     "text": [
      "10 is a even number  \n",
      "11 is odd number \n",
      "12 is a even number  \n",
      "13 is odd number \n",
      "14 is a even number  \n",
      "15 is odd number \n",
      "16 is a even number  \n",
      "17 is odd number \n",
      "18 is a even number  \n",
      "19 is odd number \n",
      "20 is a even number  \n"
     ]
    }
   ],
   "source": [
    "i=10\n",
    "while i<21:\n",
    "    if i%2==0:\n",
    "        print(\"{} is a even number  \".format(i))\n",
    "    else:\n",
    "        print(\"{} is odd number \".format(i))\n",
    "    i=i+1\n",
    "   "
   ]
  },
  {
   "cell_type": "code",
   "execution_count": 18,
   "id": "5d5d1fc4",
   "metadata": {},
   "outputs": [
    {
     "name": "stdout",
     "output_type": "stream",
     "text": [
      "11 is odd number \n",
      "12 is a even number  \n",
      "13 is odd number \n",
      "14 is a even number  \n",
      "15 is odd number \n",
      "16 is a even number  \n",
      "17 is odd number \n",
      "18 is a even number  \n",
      "19 is odd number \n",
      "20 is a even number  \n",
      "21 is odd number \n"
     ]
    }
   ],
   "source": [
    "i=10\n",
    "while i<21:\n",
    "    i=i+1\n",
    "    if i%2==0:\n",
    "        print(\"{} is a even number  \".format(i))\n",
    "    else:\n",
    "        print(\"{} is odd number \".format(i))\n",
    "    \n",
    "   "
   ]
  },
  {
   "cell_type": "code",
   "execution_count": 1,
   "id": "a3d79076",
   "metadata": {},
   "outputs": [
    {
     "name": "stdout",
     "output_type": "stream",
     "text": [
      "55\n"
     ]
    }
   ],
   "source": [
    "#print sum of first 10 natural number\n",
    "#for\n",
    "#while\n",
    "summ=0\n",
    "for i in range(1,11):\n",
    "    summ=summ+i\n",
    "print(summ)\n",
    "    "
   ]
  },
  {
   "cell_type": "code",
   "execution_count": 1,
   "id": "e4808f84",
   "metadata": {},
   "outputs": [
    {
     "name": "stdout",
     "output_type": "stream",
     "text": [
      "55\n"
     ]
    }
   ],
   "source": [
    "\n",
    "i=1\n",
    "summ=0\n",
    "while i<11:\n",
    "    summ=summ+i\n",
    "    i=i+1\n",
    "print(summ)\n",
    "   \n",
    "    \n"
   ]
  },
  {
   "cell_type": "code",
   "execution_count": 10,
   "id": "c6b88c0c",
   "metadata": {},
   "outputs": [
    {
     "name": "stdout",
     "output_type": "stream",
     "text": [
      "583\n"
     ]
    }
   ],
   "source": [
    "#get 10 random numbers b/w 1-100\n",
    "#and sum those numbers\n",
    "\n",
    "import random\n",
    "summ=0                        #summ=0,if we have the summ intialised\n",
    "for i in range(10):\n",
    "    num=random.randint(1,100)\n",
    "    summ=summ+num\n",
    "print(summ)\n"
   ]
  },
  {
   "cell_type": "code",
   "execution_count": 1,
   "id": "e20006b9",
   "metadata": {},
   "outputs": [
    {
     "name": "stdout",
     "output_type": "stream",
     "text": [
      "359\n"
     ]
    }
   ],
   "source": [
    "import random\n",
    "i=0\n",
    "summ=0\n",
    "while i<10:\n",
    "    num=random.randint(1,100)\n",
    "    summ=summ+num\n",
    "    i=i+1\n",
    "print(summ)\n",
    "\n",
    "#for summ------>we have to added with the number(variable)    "
   ]
  },
  {
   "cell_type": "code",
   "execution_count": 6,
   "id": "03e08033",
   "metadata": {},
   "outputs": [
    {
     "name": "stdout",
     "output_type": "stream",
     "text": [
      "5\n"
     ]
    }
   ],
   "source": [
    "#user get a 10 random numbers b/w 10-100\n",
    "#count how many are greater 50\n",
    "\n",
    "import random\n",
    "count=0\n",
    "for i in range(10):\n",
    "    num=random.randint(10,100)\n",
    "    if num<50:\n",
    "        count=count+1\n",
    "print(count)\n",
    "#for count------->we have to added with the 1(one)"
   ]
  },
  {
   "cell_type": "code",
   "execution_count": 8,
   "id": "9cc332a8",
   "metadata": {},
   "outputs": [
    {
     "name": "stdout",
     "output_type": "stream",
     "text": [
      "2\n"
     ]
    }
   ],
   "source": [
    "count=0\n",
    "i=0\n",
    "while i<10:\n",
    "    num=random.randint(10,100)\n",
    "    if num<50:\n",
    "        count=count+1\n",
    "    i=i+1\n",
    "print(count)"
   ]
  },
  {
   "cell_type": "code",
   "execution_count": 13,
   "id": "39d94104",
   "metadata": {},
   "outputs": [
    {
     "name": "stdout",
     "output_type": "stream",
     "text": [
      "9 10 10 9 6 9 /\n",
      "6\n"
     ]
    }
   ],
   "source": [
    "#userget a 10 random numbers b/w 0-10\n",
    "#count how many numbers are greater than 5 and also equal to 0\n",
    "\n",
    "i=0\n",
    "count=0\n",
    "while i<10:\n",
    "    num=random.randint(0,10)\n",
    "    if num>5 or num==0:\n",
    "        print(num,end=\" \")\n",
    "        count=count+1\n",
    "    i=i+1\n",
    "print('/')\n",
    "print(count)"
   ]
  },
  {
   "cell_type": "code",
   "execution_count": 17,
   "id": "4314d464",
   "metadata": {},
   "outputs": [
    {
     "name": "stdout",
     "output_type": "stream",
     "text": [
      "9 0 8 8 /\n",
      "0\n"
     ]
    }
   ],
   "source": [
    "#user get the random numberb/w 1-10 \n",
    "#two count how many are greater than 5\n",
    "#how many are to 0\n",
    "i=0\n",
    "count_5=0\n",
    "count_0=0\n",
    "i=count_5=count_0=0\n",
    "while i<10:\n",
    "    num=random.randint(0,10)\n",
    "    if num>5:\n",
    "        print(num,end=' ')\n",
    "        count_5+=1\n",
    "    if num==0:\n",
    "        print(num,end=' ')\n",
    "        count_0+=1\n",
    "   \n",
    "        \n",
    "    i=i+1\n",
    "print('/')\n",
    "print(count)"
   ]
  },
  {
   "cell_type": "code",
   "execution_count": null,
   "id": "f0fc237b",
   "metadata": {},
   "outputs": [],
   "source": []
  }
 ],
 "metadata": {
  "kernelspec": {
   "display_name": "Python 3 (ipykernel)",
   "language": "python",
   "name": "python3"
  },
  "language_info": {
   "codemirror_mode": {
    "name": "ipython",
    "version": 3
   },
   "file_extension": ".py",
   "mimetype": "text/x-python",
   "name": "python",
   "nbconvert_exporter": "python",
   "pygments_lexer": "ipython3",
   "version": "3.11.5"
  }
 },
 "nbformat": 4,
 "nbformat_minor": 5
}
