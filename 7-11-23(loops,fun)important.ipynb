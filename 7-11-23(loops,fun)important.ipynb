{
 "cells": [
  {
   "cell_type": "code",
   "execution_count": 6,
   "id": "e4d468a1",
   "metadata": {},
   "outputs": [
    {
     "name": "stdout",
     "output_type": "stream",
     "text": [
      "1\n",
      "2\n",
      "3\n",
      "4\n",
      "5\n",
      "6\n",
      "7\n",
      "8\n",
      "9\n",
      "10\n"
     ]
    }
   ],
   "source": [
    "#Important\n",
    "#get the sum of 10 natural no's\n",
    "#1+2+3+4+5+6+7+8+9+10=55\n",
    "for i in range(1,11):\n",
    "    print(i)\n"
   ]
  },
  {
   "cell_type": "code",
   "execution_count": null,
   "id": "1118c5c4",
   "metadata": {},
   "outputs": [],
   "source": [
    "#Important\n",
    "1+0=1          i=1,sum=0\n",
    "1+2=3          i=2,sum=1            \n",
    "3+3=6\n",
    "6+4=10\n",
    "10+5=15\n",
    "15+6=21"
   ]
  },
  {
   "cell_type": "code",
   "execution_count": 10,
   "id": "26c5610b",
   "metadata": {},
   "outputs": [
    {
     "name": "stdout",
     "output_type": "stream",
     "text": [
      "1\n",
      "3\n",
      "6\n",
      "10\n",
      "15\n",
      "21\n",
      "28\n",
      "36\n",
      "45\n",
      "55\n"
     ]
    }
   ],
   "source": [
    "\n",
    "#Important\n",
    "summ=0\n",
    "for i in range(1,11):\n",
    "    summ=summ+i\n",
    "    print(summ)\n",
    "    "
   ]
  },
  {
   "cell_type": "code",
   "execution_count": 11,
   "id": "a617c2eb",
   "metadata": {},
   "outputs": [
    {
     "name": "stdout",
     "output_type": "stream",
     "text": [
      "2\n",
      "5\n",
      "9\n",
      "14\n",
      "20\n",
      "27\n",
      "35\n",
      "44\n",
      "54\n",
      "65\n"
     ]
    }
   ],
   "source": [
    "\n",
    "#Important\n",
    "summ=0\n",
    "for i in range(1,11):\n",
    "    summ=summ+i\n",
    "    print(summ+i)\n",
    "    "
   ]
  },
  {
   "cell_type": "code",
   "execution_count": 12,
   "id": "b825420c",
   "metadata": {},
   "outputs": [
    {
     "name": "stdout",
     "output_type": "stream",
     "text": [
      "0+1 is :\n",
      "2\n",
      "1+2 is :\n",
      "5\n",
      "3+3 is :\n",
      "9\n",
      "6+4 is :\n",
      "14\n",
      "10+5 is :\n",
      "20\n",
      "15+6 is :\n",
      "27\n",
      "21+7 is :\n",
      "35\n",
      "28+8 is :\n",
      "44\n",
      "36+9 is :\n",
      "54\n",
      "45+10 is :\n",
      "65\n"
     ]
    }
   ],
   "source": [
    "\n",
    "#Important\n",
    "summ=0\n",
    "for i in range(1,11):\n",
    "    print(\"{}+{} is :\".format(summ,i))\n",
    "    summ=summ+i\n",
    "    print(summ+i)\n",
    "    "
   ]
  },
  {
   "cell_type": "code",
   "execution_count": 1,
   "id": "a2e98df6",
   "metadata": {},
   "outputs": [
    {
     "name": "stdout",
     "output_type": "stream",
     "text": [
      "0+1 is :\n",
      "2\n",
      "1+2 is :\n",
      "5\n",
      "3+3 is :\n",
      "9\n",
      "6+4 is :\n",
      "14\n",
      "10+5 is :\n",
      "20\n",
      "15+6 is :\n",
      "27\n",
      "21+7 is :\n",
      "35\n",
      "28+8 is :\n",
      "44\n",
      "36+9 is :\n",
      "54\n",
      "45+10 is :\n",
      "65\n",
      "the sum of the 10 no's  is 55"
     ]
    }
   ],
   "source": [
    "\n",
    "#Important\n",
    "summ=0\n",
    "for i in range(1,11):\n",
    "    print(\"{}+{} is :\".format(summ,i))\n",
    "    summ=summ+i\n",
    "    print(summ+i)\n",
    "print(\"the sum of the 10 no's  is {}\".format(summ),end='')   #outside the loop solast value printed."
   ]
  },
  {
   "cell_type": "code",
   "execution_count": 15,
   "id": "7b36e51b",
   "metadata": {},
   "outputs": [
    {
     "name": "stdout",
     "output_type": "stream",
     "text": [
      "0\n",
      "1\n",
      "2\n",
      "3\n",
      "4\n",
      "5\n",
      "6\n",
      "7\n",
      "8\n",
      "9\n"
     ]
    },
    {
     "data": {
      "text/plain": [
       "9"
      ]
     },
     "execution_count": 15,
     "metadata": {},
     "output_type": "execute_result"
    }
   ],
   "source": [
    "for i in range(10):\n",
    "    num=i\n",
    "    print(i)\n",
    "num       # num is outside the value so last value will be print."
   ]
  },
  {
   "cell_type": "code",
   "execution_count": null,
   "id": "a0e5c8b8",
   "metadata": {},
   "outputs": [],
   "source": [
    "-whenver if u want implement counter program\n",
    "-summ program\n",
    "-initialised the variables with zero\n",
    "-like:summ=0 or count=0\n",
    "-inside the loop based on the prblm update the variable \n",
    "-like:summ=summ+i or count=count+1\n",
    "-     :sum+=i  or count+=1"
   ]
  },
  {
   "cell_type": "code",
   "execution_count": 2,
   "id": "e4569b84",
   "metadata": {},
   "outputs": [
    {
     "name": "stdout",
     "output_type": "stream",
     "text": [
      "when is even: 0\n",
      "the number 26 even\n",
      "when is even: 1\n",
      "the number 16 even\n",
      "when is even: 2\n",
      "the number 20 even\n",
      "when is even: 3\n",
      "the number 22 even\n",
      "when is odd: 4\n",
      "the number 23  odd\n",
      "6 4\n"
     ]
    }
   ],
   "source": [
    "#IMPORTANT\n",
    "even_count=0\n",
    "odd_count=0\n",
    "import random\n",
    "\n",
    "for i in range(5):\n",
    "    num=random.randint(10,30)\n",
    "    if num%2==0:\n",
    "        print(\"when is even:\",i)\n",
    "        print(\"the number {} even\".format(num))\n",
    "        even_count=even_count+i\n",
    "        \n",
    "    else:\n",
    "        print(\"when is odd:\",i)\n",
    "        print(\"the number {}  odd\".format(num))\n",
    "        odd_count=odd_count+i\n",
    "print(even_count,odd_count)\n",
    "#i is wrong \n",
    "#i=0,i=1,i=2\n"
   ]
  },
  {
   "cell_type": "code",
   "execution_count": 25,
   "id": "fdadc3f4",
   "metadata": {},
   "outputs": [
    {
     "name": "stdout",
     "output_type": "stream",
     "text": [
      "when is even: 0\n",
      "the number 14 even\n",
      "when is even: 1\n",
      "the number 26 even\n",
      "when is even: 2\n",
      "the number 28 even\n",
      "when is odd: 3\n",
      "the number 13  odd\n",
      "when is even: 4\n",
      "the number 14 even\n",
      "4 1\n"
     ]
    }
   ],
   "source": [
    "even_count=0\n",
    "odd_count=0                           #counter means add 1(+1)\n",
    "import random\n",
    "\n",
    "for i in range(5):\n",
    "    num=random.randint(10,30)\n",
    "    if num%2==0:\n",
    "        print(\"when is even:\",i)\n",
    "        print(\"the number {} even\".format(num))\n",
    "        even_count=even_count+1\n",
    "        \n",
    "    else:\n",
    "        print(\"when is odd:\",i)\n",
    "        print(\"the number {}  odd\".format(num))\n",
    "        odd_count=odd_count+1\n",
    "print(even_count,odd_count)"
   ]
  },
  {
   "cell_type": "code",
   "execution_count": 31,
   "id": "e1b386f6",
   "metadata": {},
   "outputs": [
    {
     "name": "stdout",
     "output_type": "stream",
     "text": [
      "51\n",
      "71\n",
      "the no.of values more than 50  is 2\n"
     ]
    }
   ],
   "source": [
    "#take a no 1-99\n",
    "#literate the loop 10 times\n",
    "#count how many times a number is coming  and greater than 50\n",
    "#2\n",
    "#20\n",
    "#55\n",
    "#45\n",
    "import random\n",
    "count=0\n",
    "for i in range(10):\n",
    "    num=random.randint(1,99)\n",
    "    \n",
    "    if num>50:\n",
    "        print(num)\n",
    "        count+=1\n",
    "print(\"the no.of values more than 50  is {}\".format(count))\n",
    "# print(\"the no.of values more than 50  is :\",count) \n",
    "    "
   ]
  },
  {
   "cell_type": "code",
   "execution_count": 42,
   "id": "4aac3d38",
   "metadata": {},
   "outputs": [
    {
     "name": "stdout",
     "output_type": "stream",
     "text": [
      "enter a number is divisiors by 10 :10\n",
      "the number is divisible 10 is 1\n",
      "the number is divisible 10 is 2\n",
      "the number is divisible 10 is 5\n",
      "the number is divisible 10 is 10\n",
      "the numbers of divisiors are : 4\n"
     ]
    }
   ],
   "source": [
    "#number of divisiors program\n",
    "#10 divisible by what numbers\n",
    "#10/1,10/2,10/5,10/10\n",
    "#generalizzed express\n",
    "#(num%i)==0\n",
    "count=0\n",
    "num=eval(input(\"enter a number is divisiors by 10 :\"))\n",
    "for i in range (1,num+1):\n",
    "   \n",
    "    if (num%i)==0:\n",
    "        count=count+1\n",
    "        print(\"the number is divisible {} is {}\".format(num,i))\n",
    "print(\"the numbers of divisiors are :\",count)"
   ]
  },
  {
   "cell_type": "code",
   "execution_count": 4,
   "id": "b4fc4258",
   "metadata": {},
   "outputs": [
    {
     "name": "stdout",
     "output_type": "stream",
     "text": [
      "enter a number is divisiors by 10 :10\n",
      "10 is divisible by 1\n",
      "10 is divisible by 2\n",
      "10 is divisible by 5\n",
      "10 is divisible by 10\n",
      "the numbers of divisiors are : 4\n",
      "the numbers of non divisiors are : 6\n"
     ]
    }
   ],
   "source": [
    "d_count=0\n",
    "nd_count=0\n",
    "num=eval(input(\"enter a number is divisiors by 10 :\"))\n",
    "for i in range (1,num+1):\n",
    "   \n",
    "    if (num%i)==0:\n",
    "        print(\"{} is divisible by {}\".format(num,i))\n",
    "        d_count=d_count+1\n",
    "        \n",
    "    else:\n",
    "        nd_count=nd_count+1\n",
    "        \n",
    "print(\"the numbers of divisiors are :\",d_count)\n",
    "print(\"the numbers of non divisiors are :\",nd_count)"
   ]
  },
  {
   "cell_type": "code",
   "execution_count": 11,
   "id": "8b01ab07",
   "metadata": {},
   "outputs": [
    {
     "name": "stdout",
     "output_type": "stream",
     "text": [
      "enter a number is divisiors by 10 :10\n",
      "10 is divisible by 1\n"
     ]
    },
    {
     "ename": "UnboundLocalError",
     "evalue": "cannot access local variable 'd_count' where it is not associated with a value",
     "output_type": "error",
     "traceback": [
      "\u001b[1;31m---------------------------------------------------------------------------\u001b[0m",
      "\u001b[1;31mUnboundLocalError\u001b[0m                         Traceback (most recent call last)",
      "Cell \u001b[1;32mIn[11], line 13\u001b[0m\n\u001b[0;32m     11\u001b[0m             nd_count\u001b[38;5;241m=\u001b[39mnd_count\u001b[38;5;241m+\u001b[39m\u001b[38;5;241m1\u001b[39m\n\u001b[0;32m     12\u001b[0m     \u001b[38;5;28;01mreturn\u001b[39;00m(d_count,nd_count)\n\u001b[1;32m---> 13\u001b[0m val1,val2\u001b[38;5;241m=\u001b[39mcounter()\n\u001b[0;32m     14\u001b[0m \u001b[38;5;28mprint\u001b[39m(val1,val2)\n",
      "Cell \u001b[1;32mIn[11], line 9\u001b[0m, in \u001b[0;36mcounter\u001b[1;34m()\u001b[0m\n\u001b[0;32m      7\u001b[0m \u001b[38;5;28;01mif\u001b[39;00m (num\u001b[38;5;241m%\u001b[39mi)\u001b[38;5;241m==\u001b[39m\u001b[38;5;241m0\u001b[39m:\n\u001b[0;32m      8\u001b[0m     \u001b[38;5;28mprint\u001b[39m(\u001b[38;5;124m\"\u001b[39m\u001b[38;5;132;01m{}\u001b[39;00m\u001b[38;5;124m is divisible by \u001b[39m\u001b[38;5;132;01m{}\u001b[39;00m\u001b[38;5;124m\"\u001b[39m\u001b[38;5;241m.\u001b[39mformat(num,i))\n\u001b[1;32m----> 9\u001b[0m     d_count\u001b[38;5;241m=\u001b[39md_count\u001b[38;5;241m+\u001b[39m\u001b[38;5;241m1\u001b[39m\n\u001b[0;32m     10\u001b[0m \u001b[38;5;28;01melse\u001b[39;00m:\n\u001b[0;32m     11\u001b[0m     nd_count\u001b[38;5;241m=\u001b[39mnd_count\u001b[38;5;241m+\u001b[39m\u001b[38;5;241m1\u001b[39m\n",
      "\u001b[1;31mUnboundLocalError\u001b[0m: cannot access local variable 'd_count' where it is not associated with a value"
     ]
    }
   ],
   "source": [
    "#return the d_count,nd_count\n",
    "d_count=0\n",
    "nd_count=0                         #global variables\n",
    "num=eval(input(\"enter a number is divisiors by 10 :\"))\n",
    "def counter():\n",
    "    for i in range (1,num+1):\n",
    "        if (num%i)==0:\n",
    "            print(\"{} is divisible by {}\".format(num,i))\n",
    "            d_count=d_count+1                   #local variable\n",
    "        else:\n",
    "            nd_count=nd_count+1\n",
    "    return(d_count,nd_count)\n",
    "val1,val2=counter()\n",
    "print(val1,val2)\n",
    "#cannt access the both the local variable d_count because we provided it as also the global variable as d_count\n",
    "\n"
   ]
  },
  {
   "cell_type": "code",
   "execution_count": 12,
   "id": "39f0a3a1",
   "metadata": {},
   "outputs": [
    {
     "name": "stdout",
     "output_type": "stream",
     "text": [
      "enter a number is divisiors by 10 :10\n",
      "10 is divisible by 1\n",
      "10 is divisible by 2\n",
      "10 is divisible by 5\n",
      "10 is divisible by 10\n",
      "0 0\n"
     ]
    }
   ],
   "source": [
    "d_count=0\n",
    "nd_count=0                         #global variables\n",
    "num=eval(input(\"enter a number is divisiors by 10 :\"))\n",
    "def counter():\n",
    "    for i in range (1,num+1):\n",
    "        if (num%i)==0:\n",
    "            print(\"{} is divisible by {}\".format(num,i))\n",
    "            count=d_count+1                   #local variable\n",
    "        else:\n",
    "            count=nd_count+1\n",
    "    return(d_count,nd_count)\n",
    "val1,val2=counter()\n",
    "print(val1,val2)\n"
   ]
  },
  {
   "cell_type": "code",
   "execution_count": 14,
   "id": "92e75e36",
   "metadata": {},
   "outputs": [
    {
     "name": "stdout",
     "output_type": "stream",
     "text": [
      "enter a number is divisiors by 10 :10\n",
      "10 is divisible by 1\n",
      "10 is divisible by 2\n",
      "10 is divisible by 5\n",
      "10 is divisible by 10\n",
      "4 6\n"
     ]
    }
   ],
   "source": [
    "#whenever we want ro implement the counter program\n",
    "#initialised counter inside the fun only\n",
    "#def counter():\n",
    "#-----------------\n",
    "##--------------------\n",
    "#return()\n",
    "\n",
    "def counter():\n",
    "    d_count=0\n",
    "    nd_count=0                         \n",
    "    num=eval(input(\"enter a number is divisiors by 10 :\"))\n",
    "    for i in range (1,num+1):\n",
    "        if (num%i)==0:\n",
    "            print(\"{} is divisible by {}\".format(num,i))\n",
    "            d_count=d_count+1                   #local variable\n",
    "        else:\n",
    "            nd_count=nd_count+1\n",
    "    return(d_count,nd_count)\n",
    "val1,val2=counter()\n",
    "print(val1,val2)   "
   ]
  },
  {
   "cell_type": "code",
   "execution_count": 19,
   "id": "5fb9ba6b",
   "metadata": {},
   "outputs": [],
   "source": [
    "def cond(num,i,d_count,nd_count):\n",
    "    if (num%i)==0:\n",
    "        \n",
    "        print(\"{} is divisible by {}\".format(num,i))\n",
    "        d_count=d_count+1                   \n",
    "    else:\n",
    "        nd_count=nd_count+1\n",
    "    return(d_count,nd_count)"
   ]
  },
  {
   "cell_type": "code",
   "execution_count": 20,
   "id": "e7e4e01b",
   "metadata": {},
   "outputs": [
    {
     "name": "stdout",
     "output_type": "stream",
     "text": [
      "enter a number is divisiors by 10 :10\n",
      "10 is divisible by 1\n",
      "10 is divisible by 2\n",
      "10 is divisible by 5\n",
      "10 is divisible by 10\n",
      "4 6\n"
     ]
    }
   ],
   "source": [
    "def condition(num,i,d_count,nd_count):\n",
    "    if num%i==0:\n",
    "        print(\"{} is divisible by{}\".format(num,i))\n",
    "        d_count=d_count+1\n",
    "    else:\n",
    "        nd_count=nd_count+1\n",
    "    return(d_count,nd_count)\n",
    "def counter():\n",
    "    d_count=0\n",
    "    nd_count=0                         \n",
    "    num=eval(input(\"enter a number is divisiors by 10 :\"))\n",
    "    for i in range (1,num+1):\n",
    "        d_count,nd_count=cond(num,i,d_count,nd_count)\n",
    "    return(d_count,nd_count)\n",
    "val1,val2=counter()\n",
    "print(val1,val2)"
   ]
  },
  {
   "cell_type": "code",
   "execution_count": null,
   "id": "dd7f20b5",
   "metadata": {},
   "outputs": [],
   "source": []
  }
 ],
 "metadata": {
  "kernelspec": {
   "display_name": "Python 3 (ipykernel)",
   "language": "python",
   "name": "python3"
  },
  "language_info": {
   "codemirror_mode": {
    "name": "ipython",
    "version": 3
   },
   "file_extension": ".py",
   "mimetype": "text/x-python",
   "name": "python",
   "nbconvert_exporter": "python",
   "pygments_lexer": "ipython3",
   "version": "3.11.5"
  }
 },
 "nbformat": 4,
 "nbformat_minor": 5
}
